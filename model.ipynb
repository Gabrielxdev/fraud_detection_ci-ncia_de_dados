{
 "cells": [
  {
   "cell_type": "markdown",
   "id": "1de1af6f",
   "metadata": {},
   "source": [
    "### Objetivo do Projeto:\n",
    "Este projeto tem como objetivo realizar uma análise exploratória/preditiva em um conjunto de dados sintéticos que registra mais de 6 milhões de transações financeiras móveis. O foco principal é a detecção de fraudes.\n",
    "\n",
    "O conjunto de dados abrange cinco tipos de transações: CASH-IN, CASH-OUT, DEBIT, PAYMENT e TRANSFER. Algumas dessas transações já foram sinalizadas como fraudulentas por um algoritmo existente.\n",
    "\n",
    "A análise buscará:\n",
    "\n",
    "Identificar padrões e características que distinguem transações fraudulentas das legítimas.\n",
    "\n",
    "Explorar novas features (engenharia de atributos) que possam fortalecer os modelos de detecção de fraudes.\n",
    "\n",
    "Avaliar e descobrir possíveis pontos fracos ou áreas onde o algoritmo de detecção atual pode estar falhando.\n",
    "\n",
    "O objetivo final é gerar insights que possam ser utilizados para desenvolver algoritmos de detecção de fraudes mais robustos e eficientes."
   ]
  },
  {
   "cell_type": "code",
   "execution_count": 1,
   "id": "9320a1be",
   "metadata": {},
   "outputs": [],
   "source": [
    "import pandas as pd\n",
    "import numpy as np\n",
    "import matplotlib.pyplot as plt\n",
    "import seaborn as sns\n",
    "import warnings\n",
    "warnings.filterwarnings('ignore')\n",
    "sns.set(style='whitegrid')\n",
    "\n",
    "df = pd.read_csv('AIML Dataset.csv')"
   ]
  },
  {
   "cell_type": "code",
   "execution_count": 2,
   "id": "0b2f4efb",
   "metadata": {},
   "outputs": [
    {
     "data": {
      "text/html": [
       "<div>\n",
       "<style scoped>\n",
       "    .dataframe tbody tr th:only-of-type {\n",
       "        vertical-align: middle;\n",
       "    }\n",
       "\n",
       "    .dataframe tbody tr th {\n",
       "        vertical-align: top;\n",
       "    }\n",
       "\n",
       "    .dataframe thead th {\n",
       "        text-align: right;\n",
       "    }\n",
       "</style>\n",
       "<table border=\"1\" class=\"dataframe\">\n",
       "  <thead>\n",
       "    <tr style=\"text-align: right;\">\n",
       "      <th></th>\n",
       "      <th>step</th>\n",
       "      <th>type</th>\n",
       "      <th>amount</th>\n",
       "      <th>nameOrig</th>\n",
       "      <th>oldbalanceOrg</th>\n",
       "      <th>newbalanceOrig</th>\n",
       "      <th>nameDest</th>\n",
       "      <th>oldbalanceDest</th>\n",
       "      <th>newbalanceDest</th>\n",
       "      <th>isFraud</th>\n",
       "      <th>isFlaggedFraud</th>\n",
       "    </tr>\n",
       "  </thead>\n",
       "  <tbody>\n",
       "    <tr>\n",
       "      <th>0</th>\n",
       "      <td>1</td>\n",
       "      <td>PAYMENT</td>\n",
       "      <td>9839.64</td>\n",
       "      <td>C1231006815</td>\n",
       "      <td>170136.0</td>\n",
       "      <td>160296.36</td>\n",
       "      <td>M1979787155</td>\n",
       "      <td>0.0</td>\n",
       "      <td>0.0</td>\n",
       "      <td>0</td>\n",
       "      <td>0</td>\n",
       "    </tr>\n",
       "    <tr>\n",
       "      <th>1</th>\n",
       "      <td>1</td>\n",
       "      <td>PAYMENT</td>\n",
       "      <td>1864.28</td>\n",
       "      <td>C1666544295</td>\n",
       "      <td>21249.0</td>\n",
       "      <td>19384.72</td>\n",
       "      <td>M2044282225</td>\n",
       "      <td>0.0</td>\n",
       "      <td>0.0</td>\n",
       "      <td>0</td>\n",
       "      <td>0</td>\n",
       "    </tr>\n",
       "    <tr>\n",
       "      <th>2</th>\n",
       "      <td>1</td>\n",
       "      <td>TRANSFER</td>\n",
       "      <td>181.00</td>\n",
       "      <td>C1305486145</td>\n",
       "      <td>181.0</td>\n",
       "      <td>0.00</td>\n",
       "      <td>C553264065</td>\n",
       "      <td>0.0</td>\n",
       "      <td>0.0</td>\n",
       "      <td>1</td>\n",
       "      <td>0</td>\n",
       "    </tr>\n",
       "    <tr>\n",
       "      <th>3</th>\n",
       "      <td>1</td>\n",
       "      <td>CASH_OUT</td>\n",
       "      <td>181.00</td>\n",
       "      <td>C840083671</td>\n",
       "      <td>181.0</td>\n",
       "      <td>0.00</td>\n",
       "      <td>C38997010</td>\n",
       "      <td>21182.0</td>\n",
       "      <td>0.0</td>\n",
       "      <td>1</td>\n",
       "      <td>0</td>\n",
       "    </tr>\n",
       "    <tr>\n",
       "      <th>4</th>\n",
       "      <td>1</td>\n",
       "      <td>PAYMENT</td>\n",
       "      <td>11668.14</td>\n",
       "      <td>C2048537720</td>\n",
       "      <td>41554.0</td>\n",
       "      <td>29885.86</td>\n",
       "      <td>M1230701703</td>\n",
       "      <td>0.0</td>\n",
       "      <td>0.0</td>\n",
       "      <td>0</td>\n",
       "      <td>0</td>\n",
       "    </tr>\n",
       "  </tbody>\n",
       "</table>\n",
       "</div>"
      ],
      "text/plain": [
       "   step      type    amount     nameOrig  oldbalanceOrg  newbalanceOrig  \\\n",
       "0     1   PAYMENT   9839.64  C1231006815       170136.0       160296.36   \n",
       "1     1   PAYMENT   1864.28  C1666544295        21249.0        19384.72   \n",
       "2     1  TRANSFER    181.00  C1305486145          181.0            0.00   \n",
       "3     1  CASH_OUT    181.00   C840083671          181.0            0.00   \n",
       "4     1   PAYMENT  11668.14  C2048537720        41554.0        29885.86   \n",
       "\n",
       "      nameDest  oldbalanceDest  newbalanceDest  isFraud  isFlaggedFraud  \n",
       "0  M1979787155             0.0             0.0        0               0  \n",
       "1  M2044282225             0.0             0.0        0               0  \n",
       "2   C553264065             0.0             0.0        1               0  \n",
       "3    C38997010         21182.0             0.0        1               0  \n",
       "4  M1230701703             0.0             0.0        0               0  "
      ]
     },
     "execution_count": 2,
     "metadata": {},
     "output_type": "execute_result"
    }
   ],
   "source": [
    "df.head()"
   ]
  },
  {
   "cell_type": "code",
   "execution_count": 3,
   "id": "e8df2473",
   "metadata": {},
   "outputs": [
    {
     "name": "stdout",
     "output_type": "stream",
     "text": [
      "<class 'pandas.core.frame.DataFrame'>\n",
      "RangeIndex: 6362620 entries, 0 to 6362619\n",
      "Data columns (total 11 columns):\n",
      " #   Column          Dtype  \n",
      "---  ------          -----  \n",
      " 0   step            int64  \n",
      " 1   type            object \n",
      " 2   amount          float64\n",
      " 3   nameOrig        object \n",
      " 4   oldbalanceOrg   float64\n",
      " 5   newbalanceOrig  float64\n",
      " 6   nameDest        object \n",
      " 7   oldbalanceDest  float64\n",
      " 8   newbalanceDest  float64\n",
      " 9   isFraud         int64  \n",
      " 10  isFlaggedFraud  int64  \n",
      "dtypes: float64(5), int64(3), object(3)\n",
      "memory usage: 534.0+ MB\n"
     ]
    }
   ],
   "source": [
    "df.info()"
   ]
  },
  {
   "cell_type": "markdown",
   "id": "61924a3e",
   "metadata": {},
   "source": [
    "### Menos de 13% das transações dos clientes são fraudes"
   ]
  },
  {
   "cell_type": "code",
   "execution_count": 4,
   "id": "7679750f",
   "metadata": {},
   "outputs": [
    {
     "data": {
      "text/plain": [
       "isFraud\n",
       "0    6354407\n",
       "1       8213\n",
       "Name: count, dtype: int64"
      ]
     },
     "execution_count": 4,
     "metadata": {},
     "output_type": "execute_result"
    }
   ],
   "source": [
    "df[\"isFraud\"].value_counts()"
   ]
  },
  {
   "cell_type": "markdown",
   "id": "19be67a2",
   "metadata": {},
   "source": [
    "16 transações estão em estado de bandeira vermelha de alerta, ainda não comprovado se são de fato, mas entra como suspeita de transação em fraude."
   ]
  },
  {
   "cell_type": "code",
   "execution_count": 5,
   "id": "23e89e1a",
   "metadata": {},
   "outputs": [
    {
     "data": {
      "text/plain": [
       "isFlaggedFraud\n",
       "0    6362604\n",
       "1         16\n",
       "Name: count, dtype: int64"
      ]
     },
     "execution_count": 5,
     "metadata": {},
     "output_type": "execute_result"
    }
   ],
   "source": [
    "df[\"isFlaggedFraud\"].value_counts()"
   ]
  },
  {
   "cell_type": "markdown",
   "id": "448972d2",
   "metadata": {},
   "source": [
    "Não há valores nulos no dataset"
   ]
  },
  {
   "cell_type": "code",
   "execution_count": 6,
   "id": "71e3108b",
   "metadata": {},
   "outputs": [
    {
     "data": {
      "text/plain": [
       "step              0\n",
       "type              0\n",
       "amount            0\n",
       "nameOrig          0\n",
       "oldbalanceOrg     0\n",
       "newbalanceOrig    0\n",
       "nameDest          0\n",
       "oldbalanceDest    0\n",
       "newbalanceDest    0\n",
       "isFraud           0\n",
       "isFlaggedFraud    0\n",
       "dtype: int64"
      ]
     },
     "execution_count": 6,
     "metadata": {},
     "output_type": "execute_result"
    }
   ],
   "source": [
    "df.isnull().sum()"
   ]
  },
  {
   "cell_type": "markdown",
   "id": "9f4d6e4b",
   "metadata": {},
   "source": [
    "Há mais de 6 milhões de linhas e 11 colunas"
   ]
  },
  {
   "cell_type": "code",
   "execution_count": 7,
   "id": "635a3b38",
   "metadata": {},
   "outputs": [
    {
     "data": {
      "text/plain": [
       "(6362620, 11)"
      ]
     },
     "execution_count": 7,
     "metadata": {},
     "output_type": "execute_result"
    }
   ],
   "source": [
    "df.shape"
   ]
  },
  {
   "cell_type": "code",
   "execution_count": 8,
   "id": "ab50c3a7",
   "metadata": {},
   "outputs": [
    {
     "data": {
      "text/plain": [
       "np.float64(0.13)"
      ]
     },
     "execution_count": 8,
     "metadata": {},
     "output_type": "execute_result"
    }
   ],
   "source": [
    "round((df[\"isFraud\"].value_counts()[1] / df.shape[0])*100, 2)"
   ]
  },
  {
   "cell_type": "markdown",
   "id": "296fc774",
   "metadata": {},
   "source": [
    "O gráfico mostra que as operações mais populares neste serviço de dinheiro móvel são retirar dinheiro (CASH_OUT) e fazer pagamentos (PAYMENT), seguidas por depósitos (CASH_IN). As transferências para outros usuários (TRANSFER) e, especialmente, as transferências para contas bancárias (DEBIT), são muito menos frequentes."
   ]
  },
  {
   "cell_type": "code",
   "execution_count": 9,
   "id": "1478518f",
   "metadata": {},
   "outputs": [
    {
     "data": {
      "image/png": "[encoded data removed]",
      "text/plain": [
       "<Figure size 640x480 with 1 Axes>"
      ]
     },
     "metadata": {},
     "output_type": "display_data"
    }
   ],
   "source": [
    "figure = plt.Figure(figsize=(14,7))\n",
    "df[\"type\"].value_counts().plot(kind='bar', title=\"Transaction Types\", color='skyblue')\n",
    "plt.xlabel(\"Transaction Type\")\n",
    "plt.ylabel(\"Count\")\n",
    "plt.show()"
   ]
  },
  {
   "cell_type": "markdown",
   "id": "23d976c6",
   "metadata": {},
   "source": [
    "O que o Gráfico Revela:\n",
    "\n",
    "TRANSFER: De longe, é o tipo de transação com a maior taxa de fraude. Embora, como vimos no primeiro gráfico, as transferências não sejam o tipo de transação mais comum, quando uma acontece, ela tem a maior probabilidade de ser fraudulenta em comparação com os outros tipos. A taxa de fraude aqui é de aproximadamente 0.0078, ou 0.78%.\n",
    "\n",
    "CASH_OUT: É o segundo tipo de transação com maior risco. A taxa de fraude é significativamente menor que a de TRANSFER, mas ainda é relevante (cerca de 0.19%).\n",
    "\n",
    "CASH_IN, DEBIT, PAYMENT: Para esses três tipos de transação, a taxa de fraude é praticamente zero. Isso indica que são operações extremamente seguras neste conjunto de dados."
   ]
  },
  {
   "cell_type": "code",
   "execution_count": 10,
   "id": "f80386d9",
   "metadata": {},
   "outputs": [
    {
     "data": {
      "image/png": "[encoded data removed]",
      "text/plain": [
       "<Figure size 1400x700 with 1 Axes>"
      ]
     },
     "metadata": {},
     "output_type": "display_data"
    }
   ],
   "source": [
    "figure = plt.figure(figsize=(14, 7))\n",
    "fraud_by_type = df.groupby(\"type\")[\"isFraud\"].mean().sort_values(ascending=False)\n",
    "fraud_by_type.plot(kind='bar', title=\"Fraud Rate by Type\", color=\"salmon\")\n",
    "plt.ylabel(\"Fraud Rate\")\n",
    "plt.show()"
   ]
  },
  {
   "cell_type": "markdown",
   "id": "16896cd1",
   "metadata": {},
   "source": [
    "Grande Dispersão dos Dados: O desvio padrão (std) de R$ 603.858 é mais de três vezes maior que a média (mean) de R$ 179.861. Isso indica que os valores das transações são extremamente dispersos e não seguem uma distribuição normal.\n",
    "\n",
    "Média Influenciada por Outliers: A média (mean) é mais que o dobro da mediana (o valor de 50%, que é R$ 74.871). Isso é um forte indício de que existem transações com valores muito altos (outliers) que estão \"puxando\" o valor médio para cima. A mediana representa melhor o valor de uma \"transação típica\" neste dataset.\n",
    "\n",
    "Presença de Valores Extremos: As transações variam de R$ 0 até um máximo impressionante de R$ 92,4 milhões, confirmando a presença de valores extremos que se destacam da maioria das operações.\n",
    "\n",
    "Conclusão: A distribuição dos valores é fortemente assimétrica à direita. A grande maioria das transações envolve valores mais baixos (75% delas são abaixo de R$ 208.721), enquanto uma pequena quantidade de transações possui valores excepcionalmente altos. Esses valores extremos são de grande interesse para a análise, pois podem ser um forte indicador de atividade fraudulenta."
   ]
  },
  {
   "cell_type": "code",
   "execution_count": 11,
   "id": "da1e4cfa",
   "metadata": {},
   "outputs": [
    {
     "data": {
      "text/plain": [
       "count     6362620\n",
       "mean       179861\n",
       "std        603858\n",
       "min             0\n",
       "25%         13389\n",
       "50%         74871\n",
       "75%        208721\n",
       "max      92445516\n",
       "Name: amount, dtype: int64"
      ]
     },
     "execution_count": 11,
     "metadata": {},
     "output_type": "execute_result"
    }
   ],
   "source": [
    "df[\"amount\"].describe().astype(int)"
   ]
  },
  {
   "cell_type": "markdown",
   "id": "41a51c17",
   "metadata": {},
   "source": [
    "O histograma revela que os dados de transação possuem uma distribuição bimodal, o que é um insight muito importante.\n",
    "\n",
    "Isso significa que, em vez de ter um único \"grupo\" de transações, há  dois grupos principais e distintos:\n",
    "\n",
    "Grupo 1 (Pico Menor): Um grande volume de transações agrupado em torno do valor log-transformado de 8.5. (Isso corresponde a valores reais próximos de R$ 4.900).\n",
    "\n",
    "Grupo 2 (Pico Maior): Um volume ainda maior de transações agrupado em torno do valor log-transformado de 12.5. (Isso corresponde a valores reais próximos de R$ 268.000).\n",
    "\n",
    "Conclusão da Análise: Os dados não são homogêneos. A transformação log1p permitiu \"comprimir\" a escala e enxergar esses dois comportamentos, que antes estavam escondidos. Para a análise de fraude, a hipótese mais provável é que um desses picos represente transações normais e o outro represente transações fraudulentas.\n",
    "\n",
    "2. Resumo da Regra de Cálculo do np.log1p\n",
    "O cálculo é y = ln(1 + x) e tem duas regras principais:\n",
    "\n",
    "A Regra da Segurança (o \"1p\"):\n",
    "\n",
    "O cálculo primeiro soma 1 ao seu valor original (x).\n",
    "\n",
    "Propósito: Isso é para lidar com transações de valor zero. log(0) daria erro, mas log(1 + 0) vira log(1), que é 0. Isso permite que você mantenha os dados de R$ 0 na análise sem quebrar o código.\n",
    "\n",
    "A Regra da Compressão (o \"log\"):\n",
    "\n",
    "Depois, ele calcula o Logaritmo Natural (ln) do resultado (1 + x). O ln faz:\"Quantas vezes eu preciso multiplicar o número euler($\\approx 2.718$) por ele mesmo para chegar em 4915?\"\n",
    "Vamos provar. Isso é o mesmo que dizer:\n",
    "$e^{8.5} = 4915$\n",
    "(Lê-se: \"o número $e$ elevado à potência 8.5 é igual a 4915\")\n",
    "\n",
    "Propósito: Isso \"comprime\" a escala. Valores muito grandes (como 1.000.000) são transformados em valores pequenos (como 13.8). Isso reduz a diferença drástica entre os números e permite que o gráfico mostre a verdadeira \"forma\" dos seus dados (revelando os dois picos).\n",
    "\n",
    "\n"
   ]
  },
  {
   "cell_type": "code",
   "execution_count": 12,
   "id": "1d8bfcb3",
   "metadata": {},
   "outputs": [
    {
     "data": {
      "image/png": "[encoded data removed]",
      "text/plain": [
       "<Figure size 1400x700 with 1 Axes>"
      ]
     },
     "metadata": {},
     "output_type": "display_data"
    }
   ],
   "source": [
    "figure = plt.figure(figsize=(14, 7))\n",
    "sns.histplot(np.log1p(df[\"amount\"]), bins=100, kde = True, color='green')\n",
    "plt.title(\"Log-Transformed Transaction Amounts\")\n",
    "plt.xlabel(\"Log(1 + Amount)\")\n",
    "plt.show()"
   ]
  },
  {
   "cell_type": "markdown",
   "id": "2d3229a9",
   "metadata": {},
   "source": [
    "Medianas bem diferentes:\n",
    "\n",
    "isFraud = 0 (não fraude): a mediana é baixa (próxima de ~11k no gráfico descrito pelo notebook).\n",
    "isFraud = 1 (fraude): a mediana é muito mais alta (por volta de ~22k).\n",
    "Interpretação: transações fraudulentas tendem a ter valores significativamente maiores que transações legítimas (na faixa abaixo de 50k). O amount é um forte discriminador entre classes.\n",
    "Caixas com tamanhos diferentes (dispersão):\n",
    "\n",
    "Para isFraud = 0 a caixa é mais baixa/compacta, mostrando que a maioria das transações não fraudulentas está concentrada em valores baixos.\n",
    "Para isFraud = 1 a caixa é maior e deslocada para cima, indicando que as fraudes têm maior variabilidade nos valores centrais (ex.: muitos valores entre 9k e 35k segundo a descrição).\n",
    "Implicação: há maior variabilidade típica nas fraudes — modelos precisam capturar essa dispersão.\n",
    "Bigodes e outliers:\n",
    "\n",
    "isFraud = 0 mostra muitos outliers acima do bigode (pontos entre ~22k e 50k). Ou seja, existem poucas transações normais de alto valor que aparecem como outliers.\n",
    "isFraud = 1 parece ter bigode superior chegando perto do limite de 50k e poucos outliers além disso — valores altos, dentro do subconjunto de fraudes, são \"normais\".\n",
    "Interpretação: valores elevados são raros em legítimos (torna-os suspeitos), mas comuns entre fraudes — reforça que valor alto aumenta probabilidade de fraude.\n",
    "Efeito do filtro (< 50k):\n",
    "\n",
    "Você truncou/filtrou em 50k; portanto as diferenças aqui refletem só esse intervalo. Transações acima de 50k (que existem no dataset) foram removidas — isso evita que outliers extremos escondam a distribuição, mas também pode excluir fraudes muito grandes. Tenha isso em mente ao interpretar: a evidência é válida para a faixa < 50k."
   ]
  },
  {
   "cell_type": "code",
   "execution_count": 13,
   "id": "fd259f75",
   "metadata": {},
   "outputs": [
    {
     "data": {
      "text/plain": [
       "Text(0.5, 1.0, 'Amount vs isFraud (Filtered under 50K)')"
      ]
     },
     "execution_count": 13,
     "metadata": {},
     "output_type": "execute_result"
    },
    {
     "data": {
      "image/png": "[encoded data removed]",
      "text/plain": [
       "<Figure size 1400x700 with 1 Axes>"
      ]
     },
     "metadata": {},
     "output_type": "display_data"
    }
   ],
   "source": [
    "figure = plt.figure(figsize=(14, 7))\n",
    "sns.boxplot(data=df[df[\"amount\"] < 50000], x= \"isFraud\", y=\"amount\", palette=\"Set2\")\n",
    "plt.title(\"Amount vs isFraud (Filtered under 50K)\")"
   ]
  },
  {
   "cell_type": "code",
   "execution_count": 14,
   "id": "c2c44e70",
   "metadata": {},
   "outputs": [],
   "source": [
    "df[\"balanceDiffOrig\"] = df[\"oldbalanceOrg\"] - df[\"newbalanceOrig\"]\n",
    "df[\"balanceDiffDest\"] = df[\"newbalanceDest\"] - df[\"oldbalanceDest\"]"
   ]
  },
  {
   "cell_type": "markdown",
   "id": "11c6649b",
   "metadata": {},
   "source": [
    " o newbalanceOrig é maior que o oldbalanceOrg, isso é um indicador fortíssimo de FRAUDE "
   ]
  },
  {
   "cell_type": "code",
   "execution_count": 15,
   "id": "a983e33f",
   "metadata": {},
   "outputs": [
    {
     "data": {
      "text/plain": [
       "np.int64(1399253)"
      ]
     },
     "execution_count": 15,
     "metadata": {},
     "output_type": "execute_result"
    }
   ],
   "source": [
    "(df[\"balanceDiffOrig\"] < 0).sum()"
   ]
  },
  {
   "cell_type": "markdown",
   "id": "932444f9",
   "metadata": {},
   "source": [
    "A conta que deveria RECEBER dinheiro, na verdade, PERDEU dinheiro ou teve seu saldo diminuído após a transação, indicando fraude, ou seja: o saldo da conta de destino diminuiu após uma transação que deveria, logicamente, aumentá-lo."
   ]
  },
  {
   "cell_type": "code",
   "execution_count": 16,
   "id": "b2eceb6e",
   "metadata": {},
   "outputs": [
    {
     "data": {
      "text/plain": [
       "np.int64(1238864)"
      ]
     },
     "execution_count": 16,
     "metadata": {},
     "output_type": "execute_result"
    }
   ],
   "source": [
    "(df[\"balanceDiffDest\"] < 0).sum()"
   ]
  },
  {
   "cell_type": "markdown",
   "id": "3503a795",
   "metadata": {},
   "source": [
    "Podemos perceber que as fraudes não dependem do tempo(\"step\"), então por isso vamos remover a coluna step, pois, parece que não há uma tendência óbvia (o número de fraudes não aumenta nem diminui consistentemente ao longo do tempo) nem uma sazonalidade clara (um padrão que se repete em ciclos)"
   ]
  },
  {
   "cell_type": "code",
   "execution_count": 17,
   "id": "07b60895",
   "metadata": {},
   "outputs": [
    {
     "data": {
      "image/png": "[encoded data removed]",
      "text/plain": [
       "<Figure size 640x480 with 1 Axes>"
      ]
     },
     "metadata": {},
     "output_type": "display_data"
    }
   ],
   "source": [
    "frauds_per_step = df[df[\"isFraud\"] == 1]['step'].value_counts().sort_index()\n",
    "plt.plot(frauds_per_step.index, frauds_per_step.values, label = \"Frauds per Step\")\n",
    "plt.xlabel(\"Step (Time)\")\n",
    "plt.ylabel(\"Number of Frauds\")\n",
    "plt.title(\"Frauds over time\")\n",
    "plt.grid(True)\n",
    "plt.show()"
   ]
  },
  {
   "cell_type": "code",
   "execution_count": 18,
   "id": "b9e9af7b",
   "metadata": {},
   "outputs": [],
   "source": [
    "df.drop(columns=[\"step\"], inplace=True)"
   ]
  },
  {
   "cell_type": "code",
   "execution_count": 19,
   "id": "0d0287e4",
   "metadata": {},
   "outputs": [
    {
     "data": {
      "text/html": [
       "<div>\n",
       "<style scoped>\n",
       "    .dataframe tbody tr th:only-of-type {\n",
       "        vertical-align: middle;\n",
       "    }\n",
       "\n",
       "    .dataframe tbody tr th {\n",
       "        vertical-align: top;\n",
       "    }\n",
       "\n",
       "    .dataframe thead th {\n",
       "        text-align: right;\n",
       "    }\n",
       "</style>\n",
       "<table border=\"1\" class=\"dataframe\">\n",
       "  <thead>\n",
       "    <tr style=\"text-align: right;\">\n",
       "      <th></th>\n",
       "      <th>type</th>\n",
       "      <th>amount</th>\n",
       "      <th>nameOrig</th>\n",
       "      <th>oldbalanceOrg</th>\n",
       "      <th>newbalanceOrig</th>\n",
       "      <th>nameDest</th>\n",
       "      <th>oldbalanceDest</th>\n",
       "      <th>newbalanceDest</th>\n",
       "      <th>isFraud</th>\n",
       "      <th>isFlaggedFraud</th>\n",
       "      <th>balanceDiffOrig</th>\n",
       "      <th>balanceDiffDest</th>\n",
       "    </tr>\n",
       "  </thead>\n",
       "  <tbody>\n",
       "    <tr>\n",
       "      <th>0</th>\n",
       "      <td>PAYMENT</td>\n",
       "      <td>9839.64</td>\n",
       "      <td>C1231006815</td>\n",
       "      <td>170136.0</td>\n",
       "      <td>160296.36</td>\n",
       "      <td>M1979787155</td>\n",
       "      <td>0.0</td>\n",
       "      <td>0.0</td>\n",
       "      <td>0</td>\n",
       "      <td>0</td>\n",
       "      <td>9839.64</td>\n",
       "      <td>0.0</td>\n",
       "    </tr>\n",
       "    <tr>\n",
       "      <th>1</th>\n",
       "      <td>PAYMENT</td>\n",
       "      <td>1864.28</td>\n",
       "      <td>C1666544295</td>\n",
       "      <td>21249.0</td>\n",
       "      <td>19384.72</td>\n",
       "      <td>M2044282225</td>\n",
       "      <td>0.0</td>\n",
       "      <td>0.0</td>\n",
       "      <td>0</td>\n",
       "      <td>0</td>\n",
       "      <td>1864.28</td>\n",
       "      <td>0.0</td>\n",
       "    </tr>\n",
       "    <tr>\n",
       "      <th>2</th>\n",
       "      <td>TRANSFER</td>\n",
       "      <td>181.00</td>\n",
       "      <td>C1305486145</td>\n",
       "      <td>181.0</td>\n",
       "      <td>0.00</td>\n",
       "      <td>C553264065</td>\n",
       "      <td>0.0</td>\n",
       "      <td>0.0</td>\n",
       "      <td>1</td>\n",
       "      <td>0</td>\n",
       "      <td>181.00</td>\n",
       "      <td>0.0</td>\n",
       "    </tr>\n",
       "    <tr>\n",
       "      <th>3</th>\n",
       "      <td>CASH_OUT</td>\n",
       "      <td>181.00</td>\n",
       "      <td>C840083671</td>\n",
       "      <td>181.0</td>\n",
       "      <td>0.00</td>\n",
       "      <td>C38997010</td>\n",
       "      <td>21182.0</td>\n",
       "      <td>0.0</td>\n",
       "      <td>1</td>\n",
       "      <td>0</td>\n",
       "      <td>181.00</td>\n",
       "      <td>-21182.0</td>\n",
       "    </tr>\n",
       "    <tr>\n",
       "      <th>4</th>\n",
       "      <td>PAYMENT</td>\n",
       "      <td>11668.14</td>\n",
       "      <td>C2048537720</td>\n",
       "      <td>41554.0</td>\n",
       "      <td>29885.86</td>\n",
       "      <td>M1230701703</td>\n",
       "      <td>0.0</td>\n",
       "      <td>0.0</td>\n",
       "      <td>0</td>\n",
       "      <td>0</td>\n",
       "      <td>11668.14</td>\n",
       "      <td>0.0</td>\n",
       "    </tr>\n",
       "  </tbody>\n",
       "</table>\n",
       "</div>"
      ],
      "text/plain": [
       "       type    amount     nameOrig  oldbalanceOrg  newbalanceOrig  \\\n",
       "0   PAYMENT   9839.64  C1231006815       170136.0       160296.36   \n",
       "1   PAYMENT   1864.28  C1666544295        21249.0        19384.72   \n",
       "2  TRANSFER    181.00  C1305486145          181.0            0.00   \n",
       "3  CASH_OUT    181.00   C840083671          181.0            0.00   \n",
       "4   PAYMENT  11668.14  C2048537720        41554.0        29885.86   \n",
       "\n",
       "      nameDest  oldbalanceDest  newbalanceDest  isFraud  isFlaggedFraud  \\\n",
       "0  M1979787155             0.0             0.0        0               0   \n",
       "1  M2044282225             0.0             0.0        0               0   \n",
       "2   C553264065             0.0             0.0        1               0   \n",
       "3    C38997010         21182.0             0.0        1               0   \n",
       "4  M1230701703             0.0             0.0        0               0   \n",
       "\n",
       "   balanceDiffOrig  balanceDiffDest  \n",
       "0          9839.64              0.0  \n",
       "1          1864.28              0.0  \n",
       "2           181.00              0.0  \n",
       "3           181.00         -21182.0  \n",
       "4         11668.14              0.0  "
      ]
     },
     "execution_count": 19,
     "metadata": {},
     "output_type": "execute_result"
    }
   ],
   "source": [
    "df.head()"
   ]
  },
  {
   "cell_type": "markdown",
   "id": "7c2a1af5",
   "metadata": {},
   "source": [
    "Vamos descobrir quem são os usuários que mais fazem transações"
   ]
  },
  {
   "cell_type": "code",
   "execution_count": 20,
   "id": "67cd0887",
   "metadata": {},
   "outputs": [
    {
     "data": {
      "text/plain": [
       "nameOrig\n",
       "C1065307291    3\n",
       "C545315117     3\n",
       "C1902386530    3\n",
       "C2051359467    3\n",
       "C2098525306    3\n",
       "C724452879     3\n",
       "C1677795071    3\n",
       "C1784010646    3\n",
       "C1976208114    3\n",
       "C1530544995    3\n",
       "Name: count, dtype: int64"
      ]
     },
     "execution_count": 20,
     "metadata": {},
     "output_type": "execute_result"
    }
   ],
   "source": [
    "top_senders = df[\"nameOrig\"].value_counts().sort_values(ascending=False).head(10)\n",
    "top_senders"
   ]
  },
  {
   "cell_type": "markdown",
   "id": "92c46a59",
   "metadata": {},
   "source": [
    "Vamos descobrir quem são os top usuários que mais recebem transações"
   ]
  },
  {
   "cell_type": "code",
   "execution_count": 21,
   "id": "393b6ac6",
   "metadata": {},
   "outputs": [
    {
     "data": {
      "text/plain": [
       "nameDest\n",
       "C1286084959    113\n",
       "C985934102     109\n",
       "C665576141     105\n",
       "C2083562754    102\n",
       "C1590550415    101\n",
       "C248609774     101\n",
       "C451111351      99\n",
       "C1789550256     99\n",
       "C1360767589     98\n",
       "C1023714065     97\n",
       "Name: count, dtype: int64"
      ]
     },
     "execution_count": 21,
     "metadata": {},
     "output_type": "execute_result"
    }
   ],
   "source": [
    "top_receivers = df[\"nameDest\"].value_counts().sort_values(ascending=False).head(10)\n",
    "top_receivers"
   ]
  },
  {
   "cell_type": "markdown",
   "id": "5f00253b",
   "metadata": {},
   "source": [
    "Vamos descobrir os top usuários que mais enviam trasações, porém são fraudes!"
   ]
  },
  {
   "cell_type": "code",
   "execution_count": 22,
   "id": "ac47a0b9",
   "metadata": {},
   "outputs": [
    {
     "data": {
      "text/plain": [
       "nameOrig\n",
       "C1280323807    1\n",
       "C1305486145    1\n",
       "C840083671     1\n",
       "C1420196421    1\n",
       "C2101527076    1\n",
       "C1039979813    1\n",
       "C2089752665    1\n",
       "C1614818636    1\n",
       "C40604503      1\n",
       "C1970706589    1\n",
       "Name: count, dtype: int64"
      ]
     },
     "execution_count": 22,
     "metadata": {},
     "output_type": "execute_result"
    }
   ],
   "source": [
    "fraud_users = df[df[\"isFraud\"] == 1][\"nameOrig\"].value_counts().head(10)\n",
    "fraud_users"
   ]
  },
  {
   "cell_type": "markdown",
   "id": "87270c85",
   "metadata": {},
   "source": [
    "Podemos perceber que a maioria das transações são feitas por saque/retirada do dinheiro em caixa eletrõnico"
   ]
  },
  {
   "cell_type": "code",
   "execution_count": 23,
   "id": "14afa606",
   "metadata": {},
   "outputs": [
    {
     "data": {
      "text/plain": [
       "type\n",
       "CASH_OUT    2237500\n",
       "TRANSFER     532909\n",
       "Name: count, dtype: int64"
      ]
     },
     "execution_count": 23,
     "metadata": {},
     "output_type": "execute_result"
    }
   ],
   "source": [
    "fraud_types = df[df[\"type\"].isin([\"TRANSFER\", \"CASH_OUT\"])]\n",
    "fraud_types[\"type\"].value_counts()"
   ]
  },
  {
   "cell_type": "markdown",
   "id": "aed6d0a6",
   "metadata": {},
   "source": [
    "Podemos notar que há poucas ocorrências de fraude para os dois tipos de transação, ele mal aparece no gráfico;"
   ]
  },
  {
   "cell_type": "code",
   "execution_count": 24,
   "id": "71d50a19",
   "metadata": {},
   "outputs": [
    {
     "data": {
      "image/png": "[encoded data removed]",
      "text/plain": [
       "<Figure size 640x480 with 1 Axes>"
      ]
     },
     "metadata": {},
     "output_type": "display_data"
    }
   ],
   "source": [
    "sns.countplot(data=fraud_types, x=\"type\", hue=\"isFraud\")\n",
    "plt.title(\"Fraud Distribuition in Transfer & Cash_Out\")\n",
    "plt.show()"
   ]
  },
  {
   "cell_type": "code",
   "execution_count": 25,
   "id": "ab0ca9db",
   "metadata": {},
   "outputs": [],
   "source": [
    "corr = df[[\"amount\", \"oldbalanceOrg\", \"newbalanceOrig\", \"oldbalanceDest\", \"newbalanceDest\", \"isFraud\"]].corr()"
   ]
  },
  {
   "cell_type": "code",
   "execution_count": 26,
   "id": "f22b7eb7",
   "metadata": {},
   "outputs": [
    {
     "data": {
      "text/html": [
       "<div>\n",
       "<style scoped>\n",
       "    .dataframe tbody tr th:only-of-type {\n",
       "        vertical-align: middle;\n",
       "    }\n",
       "\n",
       "    .dataframe tbody tr th {\n",
       "        vertical-align: top;\n",
       "    }\n",
       "\n",
       "    .dataframe thead th {\n",
       "        text-align: right;\n",
       "    }\n",
       "</style>\n",
       "<table border=\"1\" class=\"dataframe\">\n",
       "  <thead>\n",
       "    <tr style=\"text-align: right;\">\n",
       "      <th></th>\n",
       "      <th>amount</th>\n",
       "      <th>oldbalanceOrg</th>\n",
       "      <th>newbalanceOrig</th>\n",
       "      <th>oldbalanceDest</th>\n",
       "      <th>newbalanceDest</th>\n",
       "      <th>isFraud</th>\n",
       "    </tr>\n",
       "  </thead>\n",
       "  <tbody>\n",
       "    <tr>\n",
       "      <th>amount</th>\n",
       "      <td>1.000000</td>\n",
       "      <td>-0.002762</td>\n",
       "      <td>-0.007861</td>\n",
       "      <td>0.294137</td>\n",
       "      <td>0.459304</td>\n",
       "      <td>0.076688</td>\n",
       "    </tr>\n",
       "    <tr>\n",
       "      <th>oldbalanceOrg</th>\n",
       "      <td>-0.002762</td>\n",
       "      <td>1.000000</td>\n",
       "      <td>0.998803</td>\n",
       "      <td>0.066243</td>\n",
       "      <td>0.042029</td>\n",
       "      <td>0.010154</td>\n",
       "    </tr>\n",
       "    <tr>\n",
       "      <th>newbalanceOrig</th>\n",
       "      <td>-0.007861</td>\n",
       "      <td>0.998803</td>\n",
       "      <td>1.000000</td>\n",
       "      <td>0.067812</td>\n",
       "      <td>0.041837</td>\n",
       "      <td>-0.008148</td>\n",
       "    </tr>\n",
       "    <tr>\n",
       "      <th>oldbalanceDest</th>\n",
       "      <td>0.294137</td>\n",
       "      <td>0.066243</td>\n",
       "      <td>0.067812</td>\n",
       "      <td>1.000000</td>\n",
       "      <td>0.976569</td>\n",
       "      <td>-0.005885</td>\n",
       "    </tr>\n",
       "    <tr>\n",
       "      <th>newbalanceDest</th>\n",
       "      <td>0.459304</td>\n",
       "      <td>0.042029</td>\n",
       "      <td>0.041837</td>\n",
       "      <td>0.976569</td>\n",
       "      <td>1.000000</td>\n",
       "      <td>0.000535</td>\n",
       "    </tr>\n",
       "    <tr>\n",
       "      <th>isFraud</th>\n",
       "      <td>0.076688</td>\n",
       "      <td>0.010154</td>\n",
       "      <td>-0.008148</td>\n",
       "      <td>-0.005885</td>\n",
       "      <td>0.000535</td>\n",
       "      <td>1.000000</td>\n",
       "    </tr>\n",
       "  </tbody>\n",
       "</table>\n",
       "</div>"
      ],
      "text/plain": [
       "                  amount  oldbalanceOrg  newbalanceOrig  oldbalanceDest  \\\n",
       "amount          1.000000      -0.002762       -0.007861        0.294137   \n",
       "oldbalanceOrg  -0.002762       1.000000        0.998803        0.066243   \n",
       "newbalanceOrig -0.007861       0.998803        1.000000        0.067812   \n",
       "oldbalanceDest  0.294137       0.066243        0.067812        1.000000   \n",
       "newbalanceDest  0.459304       0.042029        0.041837        0.976569   \n",
       "isFraud         0.076688       0.010154       -0.008148       -0.005885   \n",
       "\n",
       "                newbalanceDest   isFraud  \n",
       "amount                0.459304  0.076688  \n",
       "oldbalanceOrg         0.042029  0.010154  \n",
       "newbalanceOrig        0.041837 -0.008148  \n",
       "oldbalanceDest        0.976569 -0.005885  \n",
       "newbalanceDest        1.000000  0.000535  \n",
       "isFraud               0.000535  1.000000  "
      ]
     },
     "execution_count": 26,
     "metadata": {},
     "output_type": "execute_result"
    }
   ],
   "source": [
    "corr"
   ]
  },
  {
   "cell_type": "markdown",
   "id": "39d13c8b",
   "metadata": {},
   "source": [
    "não há nenhuma correlação linear forte entre as variáveis numéricas e a ocorrência de fraude. Todos os valores na linha/coluna isFraud estão muito próximos de zero.\n",
    "\n",
    "\n",
    "Isso não significa que as variáveis são inúteis para prever fraude. Significa apenas que a relação não é uma linha reta simples. Um padrão de fraude pode ser complexo (por exemplo: \"a fraude acontece quando amount é alto E oldbalanceOrg é zero\")."
   ]
  },
  {
   "cell_type": "code",
   "execution_count": 27,
   "id": "0e00ac44",
   "metadata": {},
   "outputs": [
    {
     "data": {
      "image/png": "[encoded data removed]",
      "text/plain": [
       "<Figure size 640x480 with 2 Axes>"
      ]
     },
     "metadata": {},
     "output_type": "display_data"
    }
   ],
   "source": [
    "sns.heatmap(corr, annot=True, cmap='coolwarm', fmt=\".2f\")\n",
    "plt.title(\"Correlation Matrix\")\n",
    "plt.show()"
   ]
  },
  {
   "cell_type": "markdown",
   "id": "cd177862",
   "metadata": {},
   "source": [
    " Transações onde uma conta que tinha algum dinheiro foi completamente esvaziada (saldo final = 0) através de uma transferência ou saque. Este é um padrão que pode indicar atividade fraudulenta."
   ]
  },
  {
   "cell_type": "code",
   "execution_count": 28,
   "id": "bcf74aa4",
   "metadata": {},
   "outputs": [],
   "source": [
    "zero_after_transfer = df[\n",
    "    (df[\"oldbalanceOrg\"] > 0) & (df[\"newbalanceOrig\"] == 0) & (df[\"type\"].isin([\"TRANSFER\", \"CASH_OUT\"]))\n",
    "]\n",
    "\n"
   ]
  },
  {
   "cell_type": "markdown",
   "id": "a079f872",
   "metadata": {},
   "source": [
    "Mais de 1 milhão de registros entraram neste padrão de suspeita de fraude"
   ]
  },
  {
   "cell_type": "code",
   "execution_count": 29,
   "id": "ffe68a9d",
   "metadata": {},
   "outputs": [
    {
     "data": {
      "text/plain": [
       "1188074"
      ]
     },
     "execution_count": 29,
     "metadata": {},
     "output_type": "execute_result"
    }
   ],
   "source": [
    "len(zero_after_transfer)"
   ]
  },
  {
   "cell_type": "code",
   "execution_count": 30,
   "id": "5d2dbffb",
   "metadata": {},
   "outputs": [
    {
     "data": {
      "text/html": [
       "<div>\n",
       "<style scoped>\n",
       "    .dataframe tbody tr th:only-of-type {\n",
       "        vertical-align: middle;\n",
       "    }\n",
       "\n",
       "    .dataframe tbody tr th {\n",
       "        vertical-align: top;\n",
       "    }\n",
       "\n",
       "    .dataframe thead th {\n",
       "        text-align: right;\n",
       "    }\n",
       "</style>\n",
       "<table border=\"1\" class=\"dataframe\">\n",
       "  <thead>\n",
       "    <tr style=\"text-align: right;\">\n",
       "      <th></th>\n",
       "      <th>type</th>\n",
       "      <th>amount</th>\n",
       "      <th>nameOrig</th>\n",
       "      <th>oldbalanceOrg</th>\n",
       "      <th>newbalanceOrig</th>\n",
       "      <th>nameDest</th>\n",
       "      <th>oldbalanceDest</th>\n",
       "      <th>newbalanceDest</th>\n",
       "      <th>isFraud</th>\n",
       "      <th>isFlaggedFraud</th>\n",
       "      <th>balanceDiffOrig</th>\n",
       "      <th>balanceDiffDest</th>\n",
       "    </tr>\n",
       "  </thead>\n",
       "  <tbody>\n",
       "    <tr>\n",
       "      <th>2</th>\n",
       "      <td>TRANSFER</td>\n",
       "      <td>181.00</td>\n",
       "      <td>C1305486145</td>\n",
       "      <td>181.0</td>\n",
       "      <td>0.0</td>\n",
       "      <td>C553264065</td>\n",
       "      <td>0.0</td>\n",
       "      <td>0.00</td>\n",
       "      <td>1</td>\n",
       "      <td>0</td>\n",
       "      <td>181.0</td>\n",
       "      <td>0.00</td>\n",
       "    </tr>\n",
       "    <tr>\n",
       "      <th>3</th>\n",
       "      <td>CASH_OUT</td>\n",
       "      <td>181.00</td>\n",
       "      <td>C840083671</td>\n",
       "      <td>181.0</td>\n",
       "      <td>0.0</td>\n",
       "      <td>C38997010</td>\n",
       "      <td>21182.0</td>\n",
       "      <td>0.00</td>\n",
       "      <td>1</td>\n",
       "      <td>0</td>\n",
       "      <td>181.0</td>\n",
       "      <td>-21182.00</td>\n",
       "    </tr>\n",
       "    <tr>\n",
       "      <th>15</th>\n",
       "      <td>CASH_OUT</td>\n",
       "      <td>229133.94</td>\n",
       "      <td>C905080434</td>\n",
       "      <td>15325.0</td>\n",
       "      <td>0.0</td>\n",
       "      <td>C476402209</td>\n",
       "      <td>5083.0</td>\n",
       "      <td>51513.44</td>\n",
       "      <td>0</td>\n",
       "      <td>0</td>\n",
       "      <td>15325.0</td>\n",
       "      <td>46430.44</td>\n",
       "    </tr>\n",
       "    <tr>\n",
       "      <th>19</th>\n",
       "      <td>TRANSFER</td>\n",
       "      <td>215310.30</td>\n",
       "      <td>C1670993182</td>\n",
       "      <td>705.0</td>\n",
       "      <td>0.0</td>\n",
       "      <td>C1100439041</td>\n",
       "      <td>22425.0</td>\n",
       "      <td>0.00</td>\n",
       "      <td>0</td>\n",
       "      <td>0</td>\n",
       "      <td>705.0</td>\n",
       "      <td>-22425.00</td>\n",
       "    </tr>\n",
       "    <tr>\n",
       "      <th>24</th>\n",
       "      <td>TRANSFER</td>\n",
       "      <td>311685.89</td>\n",
       "      <td>C1984094095</td>\n",
       "      <td>10835.0</td>\n",
       "      <td>0.0</td>\n",
       "      <td>C932583850</td>\n",
       "      <td>6267.0</td>\n",
       "      <td>2719172.89</td>\n",
       "      <td>0</td>\n",
       "      <td>0</td>\n",
       "      <td>10835.0</td>\n",
       "      <td>2712905.89</td>\n",
       "    </tr>\n",
       "  </tbody>\n",
       "</table>\n",
       "</div>"
      ],
      "text/plain": [
       "        type     amount     nameOrig  oldbalanceOrg  newbalanceOrig  \\\n",
       "2   TRANSFER     181.00  C1305486145          181.0             0.0   \n",
       "3   CASH_OUT     181.00   C840083671          181.0             0.0   \n",
       "15  CASH_OUT  229133.94   C905080434        15325.0             0.0   \n",
       "19  TRANSFER  215310.30  C1670993182          705.0             0.0   \n",
       "24  TRANSFER  311685.89  C1984094095        10835.0             0.0   \n",
       "\n",
       "       nameDest  oldbalanceDest  newbalanceDest  isFraud  isFlaggedFraud  \\\n",
       "2    C553264065             0.0            0.00        1               0   \n",
       "3     C38997010         21182.0            0.00        1               0   \n",
       "15   C476402209          5083.0        51513.44        0               0   \n",
       "19  C1100439041         22425.0            0.00        0               0   \n",
       "24   C932583850          6267.0      2719172.89        0               0   \n",
       "\n",
       "    balanceDiffOrig  balanceDiffDest  \n",
       "2             181.0             0.00  \n",
       "3             181.0        -21182.00  \n",
       "15          15325.0         46430.44  \n",
       "19            705.0        -22425.00  \n",
       "24          10835.0       2712905.89  "
      ]
     },
     "execution_count": 30,
     "metadata": {},
     "output_type": "execute_result"
    }
   ],
   "source": [
    "zero_after_transfer.head()"
   ]
  },
  {
   "cell_type": "markdown",
   "id": "9246b257",
   "metadata": {},
   "source": [
    "Aqui está o texto organizado em Markdown, com as analogias do \"cão de guarda\" incorporadas:\n",
    "\n",
    "---\n",
    "\n",
    "1.  `StandardScaler`\n",
    "    * **O que faz?** Padroniza os dados numéricos.\n",
    "    * **Como?** Ele transforma os dados para que tenham uma média de `0` e um desvio padrão de `1`. Isso é como \"colocar todos os dados na mesma escala\".\n",
    "    * **Por que usar?** Muitos algoritmos de Machine Learning (como a `Regressão Logística`) funcionam melhor ou mais rápido quando as variáveis numéricas (`features`) estão na mesma escala. Por exemplo, se você tem uma coluna `\"idade\"` (valores de 18 a 80) e outra `\"salário\"` (valores de 1.000 a 100.000), o `StandardScaler` impede que a coluna `\"salário\"` domine o modelo só por ter números maiores.\n",
    "\n",
    "2.  `LogisticRegression` (Regressão Logística): O Treinamento do Cão de Guarda\n",
    "    * **O que faz?** A Regressão Logística é como você ensina o cão a decidir se uma pessoa na porta é `\"Amigo\"` (Classe 0) ou `\"Ameaça\"` (Classe 1).\n",
    "    * **Como ele aprende?** Você não ensina regras duras como \"se usar chapéu, é ameaça\". Em vez disso, você mostra a ele várias pessoas (os dados) e diz quem é amigo e quem é ameaça.\n",
    "    * **O que ele faz?** O cão aprende a calcular uma `\"pontuação de desconfiança\"` (a probabilidade) para cada pessoa, com base nas características (`features`) dela: \"está chegando de noite?\", \"está forçando a porta?\", \"é o carteiro?\".\n",
    "    * **A decisão final:** O cão tem um `\"nível de tolerância\"` (o `threshold` de 0.5). Se a pontuação de desconfiança passa desse nível, ele late (classifica como `\"Ameaça\"`). Se não, ele abana o rabo (classifica como `\"Amigo\"`).\n",
    "    * **Para lembrar:** Regressão Logística é o cão que aprende a dar uma pontuação de probabilidade e toma uma decisão com base nela.\n",
    "\n",
    "3.  `confusion_matrix` e `classification_report`: O Boletim e as Notas do Cão\n",
    "    * **O que fazem?** São ferramentas para avaliar a performance do \"cão\" (seu modelo) após o treinamento.\n",
    "\n",
    "    * **`confusion_matrix` (Matriz de Confusão): O Boletim de Ocorrência do Cão**\n",
    "        * Depois de um dia de trabalho, você quer saber como o cão se saiu. A Matriz de Confusão é o seu relatório de incidentes, com 4 cenários possíveis:\n",
    "        * **Verdadeiro Positivo (TP):**\n",
    "            * *O que aconteceu:* Um ladrão apareceu, e o cão latiu.\n",
    "            * *Resumo:* Acertou! Pegou a ameaça real.\n",
    "        * **Verdadeiro Negativo (TN):**\n",
    "            * *O que aconteceu:* O carteiro chegou, e o cão ficou quieto.\n",
    "            * *Resumo:* Acertou! Ignorou o amigo real.\n",
    "        * **Falso Positivo (FP) - \"O Exagerado\":**\n",
    "            * *O que aconteceu:* Sua avó chegou, e o cão latiu para ela.\n",
    "            * *Resumo:* Erro! Deu um alarme falso e assustou uma pessoa amiga.\n",
    "        * **Falso Negativo (FN) - \"O Distraído\":**\n",
    "            * *O que aconteceu:* Um ladrão apareceu, e o cão estava dormindo.\n",
    "            * *Resumo:* Erro Grave! Deixou a ameaça passar sem fazer nada.\n",
    "        * *Para lembrar:* Matriz de Confusão é a tabela que mostra os 4 tipos de acertos e erros do seu modelo.\n",
    "\n",
    "    * **`classification_report` (Relatório de Classificação): As Notas Finais do Cão**\n",
    "        * Com o boletim de ocorrência em mãos, você dá duas notas principais para o desempenho do cão:\n",
    "        * **`Precision` (Precisão) - A Nota de \"Certeza\":**\n",
    "            * *Pergunta:* \"Das vezes que o cão latiu, quantas vezes ele estava certo (era mesmo uma ameaça)?\"\n",
    "            * *Analogia:* Mede a *qualidade* dos alarmes. Se a Precisão é alta, significa que quando ele late, você pode confiar que é algo sério. Ele não late à toa para qualquer um.\n",
    "        * **`Recall` (Revocação) - A Nota de \"Vigilância\":**\n",
    "            * *Pergunta:* \"De todas as ameaças reais que apareceram, quantas o cão conseguiu pegar?\"\n",
    "            * *Analogia:* Mede a *capacidade de detecção*. Se o Recall é alto, significa que o cão é um ótimo vigia e quase nenhuma ameaça passa despercebida por ele.\n",
    "        * **`F1-Score` - A Média Geral:**\n",
    "            * *Analogia:* É a nota final que combina \"Certeza\" e \"Vigilância\". Não adianta o cão ser super vigilante (Recall alto) se ele late para todo mundo (Precisão baixa). O F1-Score te diz se ele é *equilibrado e bom nas duas tarefas*.\n",
    "        * *Para lembrar:* Relatório de Classficação são as notas (Precisão e Recall) que dizem o quão bom o seu modelo é em diferentes aspectos.\n",
    "\n",
    "4.  `Pipeline`\n",
    "    * **O que faz?** Permite \"empacotar\" uma sequência de passos de pré-processamento e modelagem em um único objeto.\n",
    "    * **Como?** Você pode criar um \"fluxo de trabalho\" onde os dados primeiro passam pelo `StandardScaler` (passo 1) e depois são enviados para o `LogisticRegression` (passo 2), tudo de forma automática.\n",
    "    * **Por que usar?** Deixa o código muito mais limpo, organizado e, o mais importante, evita um erro comum chamado `data leakage` (vazamento de dados), garantindo que o pré-processamento seja feito da forma correta durante o treino e o teste.\n",
    "\n",
    "5.  `ColumnTransformer`\n",
    "    * **O que faz?** Aplica diferentes transformações a diferentes colunas do seu conjunto de dados.\n",
    "    * **Como?** É usado em conjunto com o `Pipeline`. Você pode dizer a ele: \"aplique o `StandardScaler` nas colunas numéricas E aplique o `OneHotEncoder` nas colunas de texto (categóricas)\".\n",
    "    * **Por que usar?** É essencial para datasets do mundo real, que quase sempre têm colunas de tipos diferentes (números, texto, etc.).\n",
    "\n",
    "6.  `OneHotEncoder`\n",
    "    * **O que faz?** Transforma variáveis categóricas (texto) em um formato numérico que o modelo entenda.\n",
    "    * **Como?** Se você tem uma coluna `\"tipo_transacao\"` com as categorias `[\"TRANSFER\", \"CASH_OUT\", \"PAYMENT\"]`, ele cria três novas colunas binárias (com `0` ou `1`): `tipo_transacao_TRANSFER`, `tipo_transacao_CASH_OUT`, etc. Para uma transação que era `\"TRANSFER\"`, a nova coluna `tipo_transacao_TRANSFER` terá o valor `1` e as outras terão `0`.\n",
    "    * **Por que usar?** Modelos de Machine Learning não conseguem processar texto diretamente. Essa é a forma padrão de converter categorias em números sem criar uma ordem falsa entre elas."
   ]
  },
  {
   "cell_type": "code",
   "execution_count": 31,
   "id": "1ae99156",
   "metadata": {},
   "outputs": [],
   "source": [
    "from sklearn.model_selection import train_test_split\n",
    "from sklearn.preprocessing import StandardScaler\n",
    "from sklearn.linear_model import LogisticRegression\n",
    "from sklearn.metrics import classification_report, confusion_matrix\n",
    "from sklearn.pipeline import Pipeline\n",
    "from sklearn.compose import ColumnTransformer\n",
    "from sklearn.preprocessing import OneHotEncoder"
   ]
  },
  {
   "cell_type": "markdown",
   "id": "4b89be21",
   "metadata": {},
   "source": [
    "Vamos remover colunas desnecessárias para a geração do modelo"
   ]
  },
  {
   "cell_type": "code",
   "execution_count": 32,
   "id": "528869d7",
   "metadata": {},
   "outputs": [],
   "source": [
    "df_model = df.drop([\"nameOrig\", \"nameDest\", \"isFlaggedFraud\"], axis=1)"
   ]
  },
  {
   "cell_type": "code",
   "execution_count": 33,
   "id": "1bf53287",
   "metadata": {},
   "outputs": [
    {
     "data": {
      "text/html": [
       "<div>\n",
       "<style scoped>\n",
       "    .dataframe tbody tr th:only-of-type {\n",
       "        vertical-align: middle;\n",
       "    }\n",
       "\n",
       "    .dataframe tbody tr th {\n",
       "        vertical-align: top;\n",
       "    }\n",
       "\n",
       "    .dataframe thead th {\n",
       "        text-align: right;\n",
       "    }\n",
       "</style>\n",
       "<table border=\"1\" class=\"dataframe\">\n",
       "  <thead>\n",
       "    <tr style=\"text-align: right;\">\n",
       "      <th></th>\n",
       "      <th>type</th>\n",
       "      <th>amount</th>\n",
       "      <th>oldbalanceOrg</th>\n",
       "      <th>newbalanceOrig</th>\n",
       "      <th>oldbalanceDest</th>\n",
       "      <th>newbalanceDest</th>\n",
       "      <th>isFraud</th>\n",
       "      <th>balanceDiffOrig</th>\n",
       "      <th>balanceDiffDest</th>\n",
       "    </tr>\n",
       "  </thead>\n",
       "  <tbody>\n",
       "    <tr>\n",
       "      <th>0</th>\n",
       "      <td>PAYMENT</td>\n",
       "      <td>9839.64</td>\n",
       "      <td>170136.0</td>\n",
       "      <td>160296.36</td>\n",
       "      <td>0.0</td>\n",
       "      <td>0.0</td>\n",
       "      <td>0</td>\n",
       "      <td>9839.64</td>\n",
       "      <td>0.0</td>\n",
       "    </tr>\n",
       "    <tr>\n",
       "      <th>1</th>\n",
       "      <td>PAYMENT</td>\n",
       "      <td>1864.28</td>\n",
       "      <td>21249.0</td>\n",
       "      <td>19384.72</td>\n",
       "      <td>0.0</td>\n",
       "      <td>0.0</td>\n",
       "      <td>0</td>\n",
       "      <td>1864.28</td>\n",
       "      <td>0.0</td>\n",
       "    </tr>\n",
       "    <tr>\n",
       "      <th>2</th>\n",
       "      <td>TRANSFER</td>\n",
       "      <td>181.00</td>\n",
       "      <td>181.0</td>\n",
       "      <td>0.00</td>\n",
       "      <td>0.0</td>\n",
       "      <td>0.0</td>\n",
       "      <td>1</td>\n",
       "      <td>181.00</td>\n",
       "      <td>0.0</td>\n",
       "    </tr>\n",
       "    <tr>\n",
       "      <th>3</th>\n",
       "      <td>CASH_OUT</td>\n",
       "      <td>181.00</td>\n",
       "      <td>181.0</td>\n",
       "      <td>0.00</td>\n",
       "      <td>21182.0</td>\n",
       "      <td>0.0</td>\n",
       "      <td>1</td>\n",
       "      <td>181.00</td>\n",
       "      <td>-21182.0</td>\n",
       "    </tr>\n",
       "    <tr>\n",
       "      <th>4</th>\n",
       "      <td>PAYMENT</td>\n",
       "      <td>11668.14</td>\n",
       "      <td>41554.0</td>\n",
       "      <td>29885.86</td>\n",
       "      <td>0.0</td>\n",
       "      <td>0.0</td>\n",
       "      <td>0</td>\n",
       "      <td>11668.14</td>\n",
       "      <td>0.0</td>\n",
       "    </tr>\n",
       "  </tbody>\n",
       "</table>\n",
       "</div>"
      ],
      "text/plain": [
       "       type    amount  oldbalanceOrg  newbalanceOrig  oldbalanceDest  \\\n",
       "0   PAYMENT   9839.64       170136.0       160296.36             0.0   \n",
       "1   PAYMENT   1864.28        21249.0        19384.72             0.0   \n",
       "2  TRANSFER    181.00          181.0            0.00             0.0   \n",
       "3  CASH_OUT    181.00          181.0            0.00         21182.0   \n",
       "4   PAYMENT  11668.14        41554.0        29885.86             0.0   \n",
       "\n",
       "   newbalanceDest  isFraud  balanceDiffOrig  balanceDiffDest  \n",
       "0             0.0        0          9839.64              0.0  \n",
       "1             0.0        0          1864.28              0.0  \n",
       "2             0.0        1           181.00              0.0  \n",
       "3             0.0        1           181.00         -21182.0  \n",
       "4             0.0        0         11668.14              0.0  "
      ]
     },
     "execution_count": 33,
     "metadata": {},
     "output_type": "execute_result"
    }
   ],
   "source": [
    "df_model.head()"
   ]
  },
  {
   "cell_type": "markdown",
   "id": "1cb980fb",
   "metadata": {},
   "source": [
    "Vamos definir quem são colunas númericas e categóricas:"
   ]
  },
  {
   "cell_type": "code",
   "execution_count": 34,
   "id": "9f9e29bc",
   "metadata": {},
   "outputs": [],
   "source": [
    "categorical = [\"type\"]\n",
    "numeric = [\"amount\", \"oldbalanceOrg\", \"newbalanceOrig\", \"oldbalanceDest\", \"newbalanceDest\"]\n"
   ]
  },
  {
   "cell_type": "markdown",
   "id": "1f2102f4",
   "metadata": {},
   "source": [
    "Vamos declarar a feature \"isFraude\" como alvo do nosso modelo:"
   ]
  },
  {
   "cell_type": "code",
   "execution_count": 35,
   "id": "66ca1527",
   "metadata": {},
   "outputs": [],
   "source": [
    "y = df_model[\"isFraud\"]\n",
    "X = df_model.drop(\"isFraud\", axis=1)"
   ]
  },
  {
   "cell_type": "markdown",
   "id": "fc321d19",
   "metadata": {},
   "source": [
    "-----\n",
    "\n",
    "### O que é `stratify=y` no `train_test_split`?\n",
    "\n",
    "O `stratify=y` garante que a divisão entre os dados de treino e de teste mantenha a **mesma proporção** de cada classe (`y`) que existia no conjunto de dados original.\n",
    "\n",
    "-----\n",
    "\n",
    "### Analogia: O Saco de Balas Coloridas\n",
    "\n",
    "Imagine que seu dataset (`y`) é um saco com 100 balas:\n",
    "\n",
    "  * **90 balas verdes** (Classe \"Não Fraude\")\n",
    "  * **10 balas vermelhas** (Classe \"Fraude\")\n",
    "\n",
    "**Proporção original:** 90% verdes / 10% vermelhas. (Um dataset desbalanceado).\n",
    "**Objetivo:** Dividir em 70% para treino e 30% para teste.\n",
    "\n",
    "#### Cenário 1: Sem `stratify`\n",
    "\n",
    "```python\n",
    "train_test_split(X, y, test_size=0.3)\n",
    "```\n",
    "\n",
    "  * **O que acontece:** A divisão é aleatória. Você fecha os olhos e pega 30 balas.\n",
    "  * **O Risco:** Por puro azar, você pode pegar 30 balas verdes e **nenhuma vermelha**.\n",
    "  * **O Problema:** Se seu \"saco de teste\" não tem balas vermelhas, é impossível avaliar se o modelo aprendeu a identificá-las. O teste se torna inútil para a classe minoritária.\n",
    "\n",
    "#### Cenário 2: Com `stratify=y`\n",
    "\n",
    "```python\n",
    "train_test_split(X, y, test_size=0.3, stratify=y)\n",
    "```\n",
    "\n",
    "  * **O que acontece:** A divisão é \"inteligente\". Ela olha a cor (`y`) de cada bala.\n",
    "  * **O Resultado:** A proporção de 90%/10% é mantida em ambos os sacos:\n",
    "      * **Saco de Treino (70 balas):** Terá \\~63 verdes (90%) e \\~7 vermelhas (10%).\n",
    "      * **Saco de Teste (30 balas):** Terá \\~27 verdes (90%) e \\~3 vermelhas (10%).\n",
    "  * **A Vantagem:** Você garante que o modelo será treinado e, principalmente, **testado de forma justa**, pois o conjunto de teste é uma representação fiel do problema original.\n",
    "\n",
    "### Resumo\n",
    "\n",
    "`stratify=y` é como cortar um bolo com várias camadas. Você garante que cada fatia (treino e teste) pegue um pedaço de **todas as camadas**, na mesma proporção do bolo inteiro.\n",
    "\n",
    "**É essencial para datasets desbalanceados.**"
   ]
  },
  {
   "cell_type": "code",
   "execution_count": 36,
   "id": "ea1b1db3",
   "metadata": {},
   "outputs": [],
   "source": [
    "X_train, X_test, y_train, y_test = train_test_split(X, y, test_size=0.3, stratify=y)"
   ]
  },
  {
   "cell_type": "markdown",
   "id": "56d67145",
   "metadata": {},
   "source": [
    "Vamos definir para qual coluna cada modelo irá fazer as transformações:"
   ]
  },
  {
   "cell_type": "code",
   "execution_count": 37,
   "id": "52f8cdd8",
   "metadata": {},
   "outputs": [],
   "source": [
    "preprocessor = ColumnTransformer(\n",
    "    transformers=[\n",
    "        (\"num\", StandardScaler(), numeric),\n",
    "        (\"cat\", OneHotEncoder(drop=\"first\"), categorical)\n",
    "    ],\n",
    "    remainder=\"drop\"\n",
    ")"
   ]
  },
  {
   "cell_type": "markdown",
   "id": "f4400eb6",
   "metadata": {},
   "source": [
    "### O que é `class_weight=\"balanced\"`?\n",
    "\n",
    "É um parâmetro que ajusta o \"peso\" ou a \"penalidade\" dos erros durante o treinamento do modelo, sendo crucial para datasets desbalanceados.\n",
    "\n",
    "---\n",
    "\n",
    "### Analogia: O Aluno e a Prova\n",
    "\n",
    "Imagine que seu dataset é o material de estudo para uma prova de 100 questões:\n",
    "* **99% do material:** História (Classe \"Não Fraude\")\n",
    "* **1% do material:** Física Quântica (Classe \"Fraude\")\n",
    "\n",
    "#### Cenário 1: Sem `class_weight` (O Aluno Preguiçoso)\n",
    "\n",
    "* **A Estratégia do Aluno:** O aluno (o modelo) quer a maior nota (acurácia). Ele percebe que se responder \"História\" para **todas** as 100 questões, ele já garante **99% de acurácia**.\n",
    "* **O Problema:** Para o aluno preguiçoso, essa é a melhor estratégia. Ele não precisa nem abrir o livro de Física Quântica.\n",
    "* **No Modelo:** Sem o `class_weight`, o modelo pode perceber que obtém uma acurácia altíssima simplesmente prevendo \"Não Fraude\" para todo mundo. O pequeno erro ao ignorar as fraudes é compensado pelo acerto massivo na classe majoritária.\n",
    "* **Risco:** O modelo se torna \"preguiçoso\" e ignora a classe minoritária (Fraude), pois essa é a maneira mais fácil de obter uma alta taxa de acerto.\n",
    "\n",
    "#### Cenário 2: Com `class_weight=\"balanced\"` (O Aluno com um Tutor Inteligente)\n",
    "\n",
    "* **A Nova Regra:** Um tutor (o `class_weight=\"balanced\"`) muda a regra da prova:\n",
    "    * Errar História: Custa **1 ponto**.\n",
    "    * Errar Física Quântica: Custa **99 pontos!**\n",
    "* **O que o `class_weight` faz:** Ele aumenta o \"peso\" ou a \"penalidade\" de errar a classe minoritária (Fraude). Ele diz ao algoritmo: \"Ei, eu sei que os exemplos de fraude são raros, mas um erro aqui custa muito caro!\".\n",
    "* **A Nova Estratégia:** O aluno não pode mais ignorar a Física Quântica. O custo de errar essa questão é tão alto que ele é **forçado a prestar atenção** naquele 1% do material.\n",
    "* **No Modelo:** Com `class_weight=\"balanced\"`, o `LogisticRegression` é penalizado muito mais severamente por classificar uma fraude real como \"Não Fraude\" (um Falso Negativo). Isso o força a aprender os padrões que definem uma fraude, mesmo que eles sejam raros.\n",
    "\n",
    "### Resumo para Lembrar:\n",
    "\n",
    "* **Sem `class_weight`:** O modelo foca na classe majoritária (\"Não Fraude\") para conseguir uma acurácia alta facilmente e pode acabar ignorando a classe minoritária (\"Fraude\").\n",
    "* **Com `class_weight=\"balanced\"`:** O modelo é **forçado a dar importância à classe minoritária**, porque errar nela se torna muito mais \"caro\" durante o treinamento. É a ferramenta que você usa para dizer ao seu modelo: \"Não seja preguiçoso, a classe rara é a mais importante para mim!\".\n",
    "\n",
    "### Por que max_iter=1000 no código?\n",
    "\n",
    "O valor padrão do max_iter no LogisticRegression é 100. Para datasets mais complexos, 100 \"giros\" podem não ser suficientes para o algoritmo encontrar o foco ideal. Aumentar para 1000 é uma forma de dar mais tempo e mais tentativas para o modelo trabalhar e encontrar uma solução melhor, evitando o ConvergenceWarning.\n",
    "\n",
    "Resumo para lembrar: max_iter é o número máximo de \"chances\" que você dá ao modelo para ele aprender e se ajustar aos dados."
   ]
  },
  {
   "cell_type": "code",
   "execution_count": 38,
   "id": "7d8dd3a0",
   "metadata": {},
   "outputs": [],
   "source": [
    "Pipeline = Pipeline(\n",
    "    [\n",
    "        (\"prep\", preprocessor),\n",
    "        (\"clf\", LogisticRegression(class_weight=\"balanced\", max_iter=1000))\n",
    "    ]\n",
    ")"
   ]
  },
  {
   "cell_type": "code",
   "execution_count": 39,
   "id": "736d6480",
   "metadata": {},
   "outputs": [
    {
     "data": {
      "text/html": [
       "<style>#sk-container-id-1 {\n",
       "  /* Definition of color scheme common for light and dark mode */\n",
       "  --sklearn-color-text: #000;\n",
       "  --sklearn-color-text-muted: #666;\n",
       "  --sklearn-color-line: gray;\n",
       "  /* Definition of color scheme for unfitted estimators */\n",
       "  --sklearn-color-unfitted-level-0: #fff5e6;\n",
       "  --sklearn-color-unfitted-level-1: #f6e4d2;\n",
       "  --sklearn-color-unfitted-level-2: #ffe0b3;\n",
       "  --sklearn-color-unfitted-level-3: chocolate;\n",
       "  /* Definition of color scheme for fitted estimators */\n",
       "  --sklearn-color-fitted-level-0: #f0f8ff;\n",
       "  --sklearn-color-fitted-level-1: #d4ebff;\n",
       "  --sklearn-color-fitted-level-2: #b3dbfd;\n",
       "  --sklearn-color-fitted-level-3: cornflowerblue;\n",
       "\n",
       "  /* Specific color for light theme */\n",
       "  --sklearn-color-text-on-default-background: var(--sg-text-color, var(--theme-code-foreground, var(--jp-content-font-color1, black)));\n",
       "  --sklearn-color-background: var(--sg-background-color, var(--theme-background, var(--jp-layout-color0, white)));\n",
       "  --sklearn-color-border-box: var(--sg-text-color, var(--theme-code-foreground, var(--jp-content-font-color1, black)));\n",
       "  --sklearn-color-icon: #696969;\n",
       "\n",
       "  @media (prefers-color-scheme: dark) {\n",
       "    /* Redefinition of color scheme for dark theme */\n",
       "    --sklearn-color-text-on-default-background: var(--sg-text-color, var(--theme-code-foreground, var(--jp-content-font-color1, white)));\n",
       "    --sklearn-color-background: var(--sg-background-color, var(--theme-background, var(--jp-layout-color0, #111)));\n",
       "    --sklearn-color-border-box: var(--sg-text-color, var(--theme-code-foreground, var(--jp-content-font-color1, white)));\n",
       "    --sklearn-color-icon: #878787;\n",
       "  }\n",
       "}\n",
       "\n",
       "#sk-container-id-1 {\n",
       "  color: var(--sklearn-color-text);\n",
       "}\n",
       "\n",
       "#sk-container-id-1 pre {\n",
       "  padding: 0;\n",
       "}\n",
       "\n",
       "#sk-container-id-1 input.sk-hidden--visually {\n",
       "  border: 0;\n",
       "  clip: rect(1px 1px 1px 1px);\n",
       "  clip: rect(1px, 1px, 1px, 1px);\n",
       "  height: 1px;\n",
       "  margin: -1px;\n",
       "  overflow: hidden;\n",
       "  padding: 0;\n",
       "  position: absolute;\n",
       "  width: 1px;\n",
       "}\n",
       "\n",
       "#sk-container-id-1 div.sk-dashed-wrapped {\n",
       "  border: 1px dashed var(--sklearn-color-line);\n",
       "  margin: 0 0.4em 0.5em 0.4em;\n",
       "  box-sizing: border-box;\n",
       "  padding-bottom: 0.4em;\n",
       "  background-color: var(--sklearn-color-background);\n",
       "}\n",
       "\n",
       "#sk-container-id-1 div.sk-container {\n",
       "  /* jupyter's `normalize.less` sets `[hidden] { display: none; }`\n",
       "     but bootstrap.min.css set `[hidden] { display: none !important; }`\n",
       "     so we also need the `!important` here to be able to override the\n",
       "     default hidden behavior on the sphinx rendered scikit-learn.org.\n",
       "     See: https://github.com/scikit-learn/scikit-learn/issues/21755 */\n",
       "  display: inline-block !important;\n",
       "  position: relative;\n",
       "}\n",
       "\n",
       "#sk-container-id-1 div.sk-text-repr-fallback {\n",
       "  display: none;\n",
       "}\n",
       "\n",
       "div.sk-parallel-item,\n",
       "div.sk-serial,\n",
       "div.sk-item {\n",
       "  /* draw centered vertical line to link estimators */\n",
       "  background-image: linear-gradient(var(--sklearn-color-text-on-default-background), var(--sklearn-color-text-on-default-background));\n",
       "  background-size: 2px 100%;\n",
       "  background-repeat: no-repeat;\n",
       "  background-position: center center;\n",
       "}\n",
       "\n",
       "/* Parallel-specific style estimator block */\n",
       "\n",
       "#sk-container-id-1 div.sk-parallel-item::after {\n",
       "  content: \"\";\n",
       "  width: 100%;\n",
       "  border-bottom: 2px solid var(--sklearn-color-text-on-default-background);\n",
       "  flex-grow: 1;\n",
       "}\n",
       "\n",
       "#sk-container-id-1 div.sk-parallel {\n",
       "  display: flex;\n",
       "  align-items: stretch;\n",
       "  justify-content: center;\n",
       "  background-color: var(--sklearn-color-background);\n",
       "  position: relative;\n",
       "}\n",
       "\n",
       "#sk-container-id-1 div.sk-parallel-item {\n",
       "  display: flex;\n",
       "  flex-direction: column;\n",
       "}\n",
       "\n",
       "#sk-container-id-1 div.sk-parallel-item:first-child::after {\n",
       "  align-self: flex-end;\n",
       "  width: 50%;\n",
       "}\n",
       "\n",
       "#sk-container-id-1 div.sk-parallel-item:last-child::after {\n",
       "  align-self: flex-start;\n",
       "  width: 50%;\n",
       "}\n",
       "\n",
       "#sk-container-id-1 div.sk-parallel-item:only-child::after {\n",
       "  width: 0;\n",
       "}\n",
       "\n",
       "/* Serial-specific style estimator block */\n",
       "\n",
       "#sk-container-id-1 div.sk-serial {\n",
       "  display: flex;\n",
       "  flex-direction: column;\n",
       "  align-items: center;\n",
       "  background-color: var(--sklearn-color-background);\n",
       "  padding-right: 1em;\n",
       "  padding-left: 1em;\n",
       "}\n",
       "\n",
       "\n",
       "/* Toggleable style: style used for estimator/Pipeline/ColumnTransformer box that is\n",
       "clickable and can be expanded/collapsed.\n",
       "- Pipeline and ColumnTransformer use this feature and define the default style\n",
       "- Estimators will overwrite some part of the style using the `sk-estimator` class\n",
       "*/\n",
       "\n",
       "/* Pipeline and ColumnTransformer style (default) */\n",
       "\n",
       "#sk-container-id-1 div.sk-toggleable {\n",
       "  /* Default theme specific background. It is overwritten whether we have a\n",
       "  specific estimator or a Pipeline/ColumnTransformer */\n",
       "  background-color: var(--sklearn-color-background);\n",
       "}\n",
       "\n",
       "/* Toggleable label */\n",
       "#sk-container-id-1 label.sk-toggleable__label {\n",
       "  cursor: pointer;\n",
       "  display: flex;\n",
       "  width: 100%;\n",
       "  margin-bottom: 0;\n",
       "  padding: 0.5em;\n",
       "  box-sizing: border-box;\n",
       "  text-align: center;\n",
       "  align-items: start;\n",
       "  justify-content: space-between;\n",
       "  gap: 0.5em;\n",
       "}\n",
       "\n",
       "#sk-container-id-1 label.sk-toggleable__label .caption {\n",
       "  font-size: 0.6rem;\n",
       "  font-weight: lighter;\n",
       "  color: var(--sklearn-color-text-muted);\n",
       "}\n",
       "\n",
       "#sk-container-id-1 label.sk-toggleable__label-arrow:before {\n",
       "  /* Arrow on the left of the label */\n",
       "  content: \"▸\";\n",
       "  float: left;\n",
       "  margin-right: 0.25em;\n",
       "  color: var(--sklearn-color-icon);\n",
       "}\n",
       "\n",
       "#sk-container-id-1 label.sk-toggleable__label-arrow:hover:before {\n",
       "  color: var(--sklearn-color-text);\n",
       "}\n",
       "\n",
       "/* Toggleable content - dropdown */\n",
       "\n",
       "#sk-container-id-1 div.sk-toggleable__content {\n",
       "  max-height: 0;\n",
       "  max-width: 0;\n",
       "  overflow: hidden;\n",
       "  text-align: left;\n",
       "  /* unfitted */\n",
       "  background-color: var(--sklearn-color-unfitted-level-0);\n",
       "}\n",
       "\n",
       "#sk-container-id-1 div.sk-toggleable__content.fitted {\n",
       "  /* fitted */\n",
       "  background-color: var(--sklearn-color-fitted-level-0);\n",
       "}\n",
       "\n",
       "#sk-container-id-1 div.sk-toggleable__content pre {\n",
       "  margin: 0.2em;\n",
       "  border-radius: 0.25em;\n",
       "  color: var(--sklearn-color-text);\n",
       "  /* unfitted */\n",
       "  background-color: var(--sklearn-color-unfitted-level-0);\n",
       "}\n",
       "\n",
       "#sk-container-id-1 div.sk-toggleable__content.fitted pre {\n",
       "  /* unfitted */\n",
       "  background-color: var(--sklearn-color-fitted-level-0);\n",
       "}\n",
       "\n",
       "#sk-container-id-1 input.sk-toggleable__control:checked~div.sk-toggleable__content {\n",
       "  /* Expand drop-down */\n",
       "  max-height: 200px;\n",
       "  max-width: 100%;\n",
       "  overflow: auto;\n",
       "}\n",
       "\n",
       "#sk-container-id-1 input.sk-toggleable__control:checked~label.sk-toggleable__label-arrow:before {\n",
       "  content: \"▾\";\n",
       "}\n",
       "\n",
       "/* Pipeline/ColumnTransformer-specific style */\n",
       "\n",
       "#sk-container-id-1 div.sk-label input.sk-toggleable__control:checked~label.sk-toggleable__label {\n",
       "  color: var(--sklearn-color-text);\n",
       "  background-color: var(--sklearn-color-unfitted-level-2);\n",
       "}\n",
       "\n",
       "#sk-container-id-1 div.sk-label.fitted input.sk-toggleable__control:checked~label.sk-toggleable__label {\n",
       "  background-color: var(--sklearn-color-fitted-level-2);\n",
       "}\n",
       "\n",
       "/* Estimator-specific style */\n",
       "\n",
       "/* Colorize estimator box */\n",
       "#sk-container-id-1 div.sk-estimator input.sk-toggleable__control:checked~label.sk-toggleable__label {\n",
       "  /* unfitted */\n",
       "  background-color: var(--sklearn-color-unfitted-level-2);\n",
       "}\n",
       "\n",
       "#sk-container-id-1 div.sk-estimator.fitted input.sk-toggleable__control:checked~label.sk-toggleable__label {\n",
       "  /* fitted */\n",
       "  background-color: var(--sklearn-color-fitted-level-2);\n",
       "}\n",
       "\n",
       "#sk-container-id-1 div.sk-label label.sk-toggleable__label,\n",
       "#sk-container-id-1 div.sk-label label {\n",
       "  /* The background is the default theme color */\n",
       "  color: var(--sklearn-color-text-on-default-background);\n",
       "}\n",
       "\n",
       "/* On hover, darken the color of the background */\n",
       "#sk-container-id-1 div.sk-label:hover label.sk-toggleable__label {\n",
       "  color: var(--sklearn-color-text);\n",
       "  background-color: var(--sklearn-color-unfitted-level-2);\n",
       "}\n",
       "\n",
       "/* Label box, darken color on hover, fitted */\n",
       "#sk-container-id-1 div.sk-label.fitted:hover label.sk-toggleable__label.fitted {\n",
       "  color: var(--sklearn-color-text);\n",
       "  background-color: var(--sklearn-color-fitted-level-2);\n",
       "}\n",
       "\n",
       "/* Estimator label */\n",
       "\n",
       "#sk-container-id-1 div.sk-label label {\n",
       "  font-family: monospace;\n",
       "  font-weight: bold;\n",
       "  display: inline-block;\n",
       "  line-height: 1.2em;\n",
       "}\n",
       "\n",
       "#sk-container-id-1 div.sk-label-container {\n",
       "  text-align: center;\n",
       "}\n",
       "\n",
       "/* Estimator-specific */\n",
       "#sk-container-id-1 div.sk-estimator {\n",
       "  font-family: monospace;\n",
       "  border: 1px dotted var(--sklearn-color-border-box);\n",
       "  border-radius: 0.25em;\n",
       "  box-sizing: border-box;\n",
       "  margin-bottom: 0.5em;\n",
       "  /* unfitted */\n",
       "  background-color: var(--sklearn-color-unfitted-level-0);\n",
       "}\n",
       "\n",
       "#sk-container-id-1 div.sk-estimator.fitted {\n",
       "  /* fitted */\n",
       "  background-color: var(--sklearn-color-fitted-level-0);\n",
       "}\n",
       "\n",
       "/* on hover */\n",
       "#sk-container-id-1 div.sk-estimator:hover {\n",
       "  /* unfitted */\n",
       "  background-color: var(--sklearn-color-unfitted-level-2);\n",
       "}\n",
       "\n",
       "#sk-container-id-1 div.sk-estimator.fitted:hover {\n",
       "  /* fitted */\n",
       "  background-color: var(--sklearn-color-fitted-level-2);\n",
       "}\n",
       "\n",
       "/* Specification for estimator info (e.g. \"i\" and \"?\") */\n",
       "\n",
       "/* Common style for \"i\" and \"?\" */\n",
       "\n",
       ".sk-estimator-doc-link,\n",
       "a:link.sk-estimator-doc-link,\n",
       "a:visited.sk-estimator-doc-link {\n",
       "  float: right;\n",
       "  font-size: smaller;\n",
       "  line-height: 1em;\n",
       "  font-family: monospace;\n",
       "  background-color: var(--sklearn-color-background);\n",
       "  border-radius: 1em;\n",
       "  height: 1em;\n",
       "  width: 1em;\n",
       "  text-decoration: none !important;\n",
       "  margin-left: 0.5em;\n",
       "  text-align: center;\n",
       "  /* unfitted */\n",
       "  border: var(--sklearn-color-unfitted-level-1) 1pt solid;\n",
       "  color: var(--sklearn-color-unfitted-level-1);\n",
       "}\n",
       "\n",
       ".sk-estimator-doc-link.fitted,\n",
       "a:link.sk-estimator-doc-link.fitted,\n",
       "a:visited.sk-estimator-doc-link.fitted {\n",
       "  /* fitted */\n",
       "  border: var(--sklearn-color-fitted-level-1) 1pt solid;\n",
       "  color: var(--sklearn-color-fitted-level-1);\n",
       "}\n",
       "\n",
       "/* On hover */\n",
       "div.sk-estimator:hover .sk-estimator-doc-link:hover,\n",
       ".sk-estimator-doc-link:hover,\n",
       "div.sk-label-container:hover .sk-estimator-doc-link:hover,\n",
       ".sk-estimator-doc-link:hover {\n",
       "  /* unfitted */\n",
       "  background-color: var(--sklearn-color-unfitted-level-3);\n",
       "  color: var(--sklearn-color-background);\n",
       "  text-decoration: none;\n",
       "}\n",
       "\n",
       "div.sk-estimator.fitted:hover .sk-estimator-doc-link.fitted:hover,\n",
       ".sk-estimator-doc-link.fitted:hover,\n",
       "div.sk-label-container:hover .sk-estimator-doc-link.fitted:hover,\n",
       ".sk-estimator-doc-link.fitted:hover {\n",
       "  /* fitted */\n",
       "  background-color: var(--sklearn-color-fitted-level-3);\n",
       "  color: var(--sklearn-color-background);\n",
       "  text-decoration: none;\n",
       "}\n",
       "\n",
       "/* Span, style for the box shown on hovering the info icon */\n",
       ".sk-estimator-doc-link span {\n",
       "  display: none;\n",
       "  z-index: 9999;\n",
       "  position: relative;\n",
       "  font-weight: normal;\n",
       "  right: .2ex;\n",
       "  padding: .5ex;\n",
       "  margin: .5ex;\n",
       "  width: min-content;\n",
       "  min-width: 20ex;\n",
       "  max-width: 50ex;\n",
       "  color: var(--sklearn-color-text);\n",
       "  box-shadow: 2pt 2pt 4pt #999;\n",
       "  /* unfitted */\n",
       "  background: var(--sklearn-color-unfitted-level-0);\n",
       "  border: .5pt solid var(--sklearn-color-unfitted-level-3);\n",
       "}\n",
       "\n",
       ".sk-estimator-doc-link.fitted span {\n",
       "  /* fitted */\n",
       "  background: var(--sklearn-color-fitted-level-0);\n",
       "  border: var(--sklearn-color-fitted-level-3);\n",
       "}\n",
       "\n",
       ".sk-estimator-doc-link:hover span {\n",
       "  display: block;\n",
       "}\n",
       "\n",
       "/* \"?\"-specific style due to the `<a>` HTML tag */\n",
       "\n",
       "#sk-container-id-1 a.estimator_doc_link {\n",
       "  float: right;\n",
       "  font-size: 1rem;\n",
       "  line-height: 1em;\n",
       "  font-family: monospace;\n",
       "  background-color: var(--sklearn-color-background);\n",
       "  border-radius: 1rem;\n",
       "  height: 1rem;\n",
       "  width: 1rem;\n",
       "  text-decoration: none;\n",
       "  /* unfitted */\n",
       "  color: var(--sklearn-color-unfitted-level-1);\n",
       "  border: var(--sklearn-color-unfitted-level-1) 1pt solid;\n",
       "}\n",
       "\n",
       "#sk-container-id-1 a.estimator_doc_link.fitted {\n",
       "  /* fitted */\n",
       "  border: var(--sklearn-color-fitted-level-1) 1pt solid;\n",
       "  color: var(--sklearn-color-fitted-level-1);\n",
       "}\n",
       "\n",
       "/* On hover */\n",
       "#sk-container-id-1 a.estimator_doc_link:hover {\n",
       "  /* unfitted */\n",
       "  background-color: var(--sklearn-color-unfitted-level-3);\n",
       "  color: var(--sklearn-color-background);\n",
       "  text-decoration: none;\n",
       "}\n",
       "\n",
       "#sk-container-id-1 a.estimator_doc_link.fitted:hover {\n",
       "  /* fitted */\n",
       "  background-color: var(--sklearn-color-fitted-level-3);\n",
       "}\n",
       "</style><div id=\"sk-container-id-1\" class=\"sk-top-container\"><div class=\"sk-text-repr-fallback\"><pre>Pipeline(steps=[(&#x27;prep&#x27;,\n",
       "                 ColumnTransformer(transformers=[(&#x27;num&#x27;, StandardScaler(),\n",
       "                                                  [&#x27;amount&#x27;, &#x27;oldbalanceOrg&#x27;,\n",
       "                                                   &#x27;newbalanceOrig&#x27;,\n",
       "                                                   &#x27;oldbalanceDest&#x27;,\n",
       "                                                   &#x27;newbalanceDest&#x27;]),\n",
       "                                                 (&#x27;cat&#x27;,\n",
       "                                                  OneHotEncoder(drop=&#x27;first&#x27;),\n",
       "                                                  [&#x27;type&#x27;])])),\n",
       "                (&#x27;clf&#x27;,\n",
       "                 LogisticRegression(class_weight=&#x27;balanced&#x27;, max_iter=1000))])</pre><b>In a Jupyter environment, please rerun this cell to show the HTML representation or trust the notebook. <br />On GitHub, the HTML representation is unable to render, please try loading this page with nbviewer.org.</b></div><div class=\"sk-container\" hidden><div class=\"sk-item sk-dashed-wrapped\"><div class=\"sk-label-container\"><div class=\"sk-label fitted sk-toggleable\"><input class=\"sk-toggleable__control sk-hidden--visually\" id=\"sk-estimator-id-1\" type=\"checkbox\" ><label for=\"sk-estimator-id-1\" class=\"sk-toggleable__label fitted sk-toggleable__label-arrow\"><div><div>Pipeline</div></div><div><a class=\"sk-estimator-doc-link fitted\" rel=\"noreferrer\" target=\"_blank\" href=\"https://scikit-learn.org/1.6/modules/generated/sklearn.pipeline.Pipeline.html\">?<span>Documentation for Pipeline</span></a><span class=\"sk-estimator-doc-link fitted\">i<span>Fitted</span></span></div></label><div class=\"sk-toggleable__content fitted\"><pre>Pipeline(steps=[(&#x27;prep&#x27;,\n",
       "                 ColumnTransformer(transformers=[(&#x27;num&#x27;, StandardScaler(),\n",
       "                                                  [&#x27;amount&#x27;, &#x27;oldbalanceOrg&#x27;,\n",
       "                                                   &#x27;newbalanceOrig&#x27;,\n",
       "                                                   &#x27;oldbalanceDest&#x27;,\n",
       "                                                   &#x27;newbalanceDest&#x27;]),\n",
       "                                                 (&#x27;cat&#x27;,\n",
       "                                                  OneHotEncoder(drop=&#x27;first&#x27;),\n",
       "                                                  [&#x27;type&#x27;])])),\n",
       "                (&#x27;clf&#x27;,\n",
       "                 LogisticRegression(class_weight=&#x27;balanced&#x27;, max_iter=1000))])</pre></div> </div></div><div class=\"sk-serial\"><div class=\"sk-item sk-dashed-wrapped\"><div class=\"sk-label-container\"><div class=\"sk-label fitted sk-toggleable\"><input class=\"sk-toggleable__control sk-hidden--visually\" id=\"sk-estimator-id-2\" type=\"checkbox\" ><label for=\"sk-estimator-id-2\" class=\"sk-toggleable__label fitted sk-toggleable__label-arrow\"><div><div>prep: ColumnTransformer</div></div><div><a class=\"sk-estimator-doc-link fitted\" rel=\"noreferrer\" target=\"_blank\" href=\"https://scikit-learn.org/1.6/modules/generated/sklearn.compose.ColumnTransformer.html\">?<span>Documentation for prep: ColumnTransformer</span></a></div></label><div class=\"sk-toggleable__content fitted\"><pre>ColumnTransformer(transformers=[(&#x27;num&#x27;, StandardScaler(),\n",
       "                                 [&#x27;amount&#x27;, &#x27;oldbalanceOrg&#x27;, &#x27;newbalanceOrig&#x27;,\n",
       "                                  &#x27;oldbalanceDest&#x27;, &#x27;newbalanceDest&#x27;]),\n",
       "                                (&#x27;cat&#x27;, OneHotEncoder(drop=&#x27;first&#x27;), [&#x27;type&#x27;])])</pre></div> </div></div><div class=\"sk-parallel\"><div class=\"sk-parallel-item\"><div class=\"sk-item\"><div class=\"sk-label-container\"><div class=\"sk-label fitted sk-toggleable\"><input class=\"sk-toggleable__control sk-hidden--visually\" id=\"sk-estimator-id-3\" type=\"checkbox\" ><label for=\"sk-estimator-id-3\" class=\"sk-toggleable__label fitted sk-toggleable__label-arrow\"><div><div>num</div></div></label><div class=\"sk-toggleable__content fitted\"><pre>[&#x27;amount&#x27;, &#x27;oldbalanceOrg&#x27;, &#x27;newbalanceOrig&#x27;, &#x27;oldbalanceDest&#x27;, &#x27;newbalanceDest&#x27;]</pre></div> </div></div><div class=\"sk-serial\"><div class=\"sk-item\"><div class=\"sk-estimator fitted sk-toggleable\"><input class=\"sk-toggleable__control sk-hidden--visually\" id=\"sk-estimator-id-4\" type=\"checkbox\" ><label for=\"sk-estimator-id-4\" class=\"sk-toggleable__label fitted sk-toggleable__label-arrow\"><div><div>StandardScaler</div></div><div><a class=\"sk-estimator-doc-link fitted\" rel=\"noreferrer\" target=\"_blank\" href=\"https://scikit-learn.org/1.6/modules/generated/sklearn.preprocessing.StandardScaler.html\">?<span>Documentation for StandardScaler</span></a></div></label><div class=\"sk-toggleable__content fitted\"><pre>StandardScaler()</pre></div> </div></div></div></div></div><div class=\"sk-parallel-item\"><div class=\"sk-item\"><div class=\"sk-label-container\"><div class=\"sk-label fitted sk-toggleable\"><input class=\"sk-toggleable__control sk-hidden--visually\" id=\"sk-estimator-id-5\" type=\"checkbox\" ><label for=\"sk-estimator-id-5\" class=\"sk-toggleable__label fitted sk-toggleable__label-arrow\"><div><div>cat</div></div></label><div class=\"sk-toggleable__content fitted\"><pre>[&#x27;type&#x27;]</pre></div> </div></div><div class=\"sk-serial\"><div class=\"sk-item\"><div class=\"sk-estimator fitted sk-toggleable\"><input class=\"sk-toggleable__control sk-hidden--visually\" id=\"sk-estimator-id-6\" type=\"checkbox\" ><label for=\"sk-estimator-id-6\" class=\"sk-toggleable__label fitted sk-toggleable__label-arrow\"><div><div>OneHotEncoder</div></div><div><a class=\"sk-estimator-doc-link fitted\" rel=\"noreferrer\" target=\"_blank\" href=\"https://scikit-learn.org/1.6/modules/generated/sklearn.preprocessing.OneHotEncoder.html\">?<span>Documentation for OneHotEncoder</span></a></div></label><div class=\"sk-toggleable__content fitted\"><pre>OneHotEncoder(drop=&#x27;first&#x27;)</pre></div> </div></div></div></div></div></div></div><div class=\"sk-item\"><div class=\"sk-estimator fitted sk-toggleable\"><input class=\"sk-toggleable__control sk-hidden--visually\" id=\"sk-estimator-id-7\" type=\"checkbox\" ><label for=\"sk-estimator-id-7\" class=\"sk-toggleable__label fitted sk-toggleable__label-arrow\"><div><div>LogisticRegression</div></div><div><a class=\"sk-estimator-doc-link fitted\" rel=\"noreferrer\" target=\"_blank\" href=\"https://scikit-learn.org/1.6/modules/generated/sklearn.linear_model.LogisticRegression.html\">?<span>Documentation for LogisticRegression</span></a></div></label><div class=\"sk-toggleable__content fitted\"><pre>LogisticRegression(class_weight=&#x27;balanced&#x27;, max_iter=1000)</pre></div> </div></div></div></div></div></div>"
      ],
      "text/plain": [
       "Pipeline(steps=[('prep',\n",
       "                 ColumnTransformer(transformers=[('num', StandardScaler(),\n",
       "                                                  ['amount', 'oldbalanceOrg',\n",
       "                                                   'newbalanceOrig',\n",
       "                                                   'oldbalanceDest',\n",
       "                                                   'newbalanceDest']),\n",
       "                                                 ('cat',\n",
       "                                                  OneHotEncoder(drop='first'),\n",
       "                                                  ['type'])])),\n",
       "                ('clf',\n",
       "                 LogisticRegression(class_weight='balanced', max_iter=1000))])"
      ]
     },
     "execution_count": 39,
     "metadata": {},
     "output_type": "execute_result"
    }
   ],
   "source": [
    "Pipeline.fit(X_train, y_train)"
   ]
  },
  {
   "cell_type": "code",
   "execution_count": 40,
   "id": "c4f4a32e",
   "metadata": {},
   "outputs": [],
   "source": [
    "y_pred = Pipeline.predict(X_test)"
   ]
  },
  {
   "cell_type": "markdown",
   "id": "de385f1b",
   "metadata": {},
   "source": [
    "## As Classes (as linhas `0` e `1`)\n",
    "\n",
    "* **`0` (Classe 0):** Representa a classe majoritária, ou seja, \"Não-Fraude\".\n",
    "* **`1` (Classe 1):** Representa a classe minoritária, o evento que você quer detectar: \"Fraude\".\n",
    "* **`support` (Suporte):**\n",
    "    * **O que é:** Simplesmente a contagem de quantos exemplos *reais* de cada classe existem no seu conjunto de teste (`y_test`).\n",
    "    * **Seus números:**\n",
    "        * `Support 0 = 1.906.322`: Você tem ~1.9 milhão de transações legítimas nos dados de teste.\n",
    "        * `Support 1 = 2.464`: Você tem 2.464 transações fraudulentas reais nos dados de teste.\n",
    "\n",
    "## As Métricas Principais (as colunas)\n",
    "\n",
    "Estas são as métricas mais importantes para avaliar a performance *por classe*.\n",
    "\n",
    "### 1. `precision` (Precisão)\n",
    "\n",
    "* **Pergunta que responde:** \"Das vezes que o modelo *previu* uma classe, quantas vezes ele acertou?\"\n",
    "* **Foco:** Medir a qualidade das previsões positivas. É uma métrica de **confiabilidade**.\n",
    "* **Seus números:**\n",
    "    * `Precision 0 = 1.00` (100%): Das vezes que seu modelo disse \"Não-Fraude\", ele acertou 100% das vezes. (Cálculo: Verdadeiros Negativos / (VN + Falsos Negativos) = 1805476 / (1805476 + 175) ≈ 1.00).\n",
    "    * `Precision 1 = 0.02` (2%): Das vezes que seu modelo disse **\"É FRAUDE!\"**, ele só acertou 2% das vezes. (Cálculo: Verdadeiros Positivos / (VP + Falsos Positivos) = 2289 / (2289 + 100846) ≈ 0.02).\n",
    "* **Interpretação:** Este é o seu maior problema. O modelo gera uma quantidade massiva de alarmes falsos. Para cada 100 transações que ele sinaliza como fraude, 98 são, na verdade, legítimas.\n",
    "\n",
    "### 2. `recall` (Revocação / Sensibilidade)\n",
    "\n",
    "* **Pergunta que responde:** \"De todas as instâncias *reais* de uma classe, quantas o modelo conseguiu *encontrar*?\"\n",
    "* **Foco:** Medir a capacidade do modelo de \"achar\" o que é importante. É uma métrica de **completude**.\n",
    "* **Seus números:**\n",
    "    * `Recall 0 = 0.95` (95%): De todas as transações *reais* de \"Não-Fraude\", o modelo identificou corretamente 95%. (Os outros 5% ele classificou erroneamente como fraude, gerando os Falsos Positivos).\n",
    "    * `Recall 1 = 0.93` (93%): De todas as transações *reais* de \"Fraude\", o modelo conseguiu encontrar 93%. (Os outros 7% ele deixou passar como \"Não-Fraude\", são os Falsos Negativos).\n",
    "* **Interpretação:** Esta é a sua melhor métrica. O modelo é muito bom em \"farejar\" a fraude. Ele só deixou 7% das fraudes passarem batido (175, segundo a matriz de confusão).\n",
    "\n",
    "### 3. `f1-score`\n",
    "\n",
    "* **Pergunta que responde:** \"Qual é a média harmônica entre `precision` e `recall`?\"\n",
    "* **Foco:** É uma métrica de **equilíbrio**. Ela só será alta se *ambas*, precision e recall, forem altas. É excelente para datasets desbalanceados.\n",
    "* **Seus números:**\n",
    "    * `f1-score 0 = 0.97`: Como `precision` (1.00) e `recall` (0.95) da Classe 0 são ambos altos, o `f1-score` é alto.\n",
    "    * `f1-score 1 = 0.04`: Como `precision` (0.02) é terrível e `recall` (0.93) é ótimo, a média é puxada para muito baixo. Isso mostra o desequilíbrio total do modelo: ele encontra tudo (recall), mas a um custo altíssimo de falsos positivos (precision).\n",
    "\n",
    "## As Médias (as linhas de resumo)\n",
    "\n",
    "### `accuracy` (Acurácia)\n",
    "\n",
    "* **O que é:** A porcentagem de previsões corretas do total. (Acertos / Total de Previsões).\n",
    "* **Seu número:** `0.95` (95%).\n",
    "* **Interpretação:** É uma métrica 100% enganosa e inútil para o seu caso. Seu dataset tem 99.8% de \"Não-Fraude\" (1906322 / 1908786). Se você criasse um modelo \"bobo\" que *sempre* previsse \"Não-Fraude\", ele teria 99.8% de acurácia. O seu modelo, com 95%, é *pior* do que esse modelo bobo. **Sempre ignore a acurácia em datasets desbalanceados.**\n",
    "\n",
    "### `macro avg` (Média Macro)\n",
    "\n",
    "* **O que é:** A média aritmética simples das métricas de todas as classes. Ela trata a Classe 0 e a Classe 1 com **exatamente o mesmo peso**.\n",
    "* **Seus números:**\n",
    "    * `Macro Precision = (1.00 + 0.02) / 2 = 0.51`\n",
    "    * `Macro Recall = (0.95 + 0.93) / 2 = 0.94`\n",
    "* **Interpretação:** É uma boa métrica para ver o desempenho médio \"por classe\", sem se importar com o desbalanceamento. Um F1-Score macro de 0.51 diz que, na média, o equilíbrio do seu modelo é medíocre.\n",
    "\n",
    "### `weighted avg` (Média Ponderada)\n",
    "\n",
    "* **O que é:** A média das métricas, mas ponderada pelo `support` de cada classe. A classe com mais amostras (Classe 0) terá um peso muito maior na média.\n",
    "* **Seus números:** `Precision = 1.00`, `Recall = 0.95`, `f1-score = 0.97`.\n",
    "* **Interpretação:** Note como esses números são quase *idênticos* aos da Classe 0. Isso acontece porque a Classe 0 representa 99.8% dos dados. Assim como a Acurácia, a `weighted avg` é **enganosa** aqui, pois ela *esconde* o desempenho péssimo na classe que você realmente quer medir (Fraude).\n",
    "\n",
    "## Conclusão da Análise\n",
    "\n",
    "* **O que o modelo faz bem?** Encontrar fraudes. Ele tem um `recall` de 93% para fraudes, o que é ótimo.\n",
    "* **O que o modelo faz mal?** Confirmar fraudes. Ele tem uma `precision` de 2% para fraudes, o que é terrível.\n",
    "* **Diagnóstico:** O modelo está \"sensível\" demais. Ele \"grita fraude\" por qualquer motivo, gerando 100 mil falsos positivos para conseguir pegar 2.289 fraudes reais.\n",
    "```\n",
    "\n"
   ]
  },
  {
   "cell_type": "code",
   "execution_count": 41,
   "id": "2c6b9e30",
   "metadata": {},
   "outputs": [
    {
     "name": "stdout",
     "output_type": "stream",
     "text": [
      "              precision    recall  f1-score   support\n",
      "\n",
      "           0       1.00      0.95      0.97   1906322\n",
      "           1       0.02      0.93      0.04      2464\n",
      "\n",
      "    accuracy                           0.95   1908786\n",
      "   macro avg       0.51      0.94      0.51   1908786\n",
      "weighted avg       1.00      0.95      0.97   1908786\n",
      "\n"
     ]
    }
   ],
   "source": [
    "print(classification_report(y_test, y_pred))"
   ]
  },
  {
   "cell_type": "markdown",
   "id": "5177e1dd",
   "metadata": {},
   "source": [
    "# Entendendo a Matriz de Confusão (Confusion Matrix)\n",
    "\n",
    "A matriz de confusão é a fonte de todas as outras métricas. Vamos traduzir esses números:\n",
    "\n",
    "`array([[1805476, 100846], [ 175, 2289]])`\n",
    "\n",
    "Vamos assumir que:\n",
    "\n",
    "* **Classe 0:** Não-Fraude (o caso \"normal\" ou \"negativo\")\n",
    "* **Classe 1:** Fraude (o caso \"raro\" ou \"positivo\" que queremos detectar)\n",
    "\n",
    "Aqui está o que cada número significa:\n",
    "\n",
    "* **1.805.476 (Verdadeiros Negativos - TN):**\n",
    "    * **O que é:** Transações que *não eram* fraude e seu modelo *corretamente* disse que *não eram* fraude.\n",
    "    * **Resultado:** Ótimo!\n",
    "\n",
    "* **100.846 (Falsos Positivos - FP):**\n",
    "    * **O que é:** Transações que *não eram* fraude, mas seu modelo *incorretamente* marcou como *fraude*.\n",
    "    * **Resultado:** **Este é o seu maior problema.** São 100 mil alarmes falsos!\n",
    "\n",
    "* **175 (Falsos Negativos - FN):**\n",
    "    * **O que é:** Transações que *eram* fraude, mas seu modelo *incorretamente* disse que *não eram* fraude.\n",
    "    * **Resultado:** Este é o erro mais perigoso. Deixou 175 fraudes passarem.\n",
    "\n",
    "* **2.289 (Verdadeiros Positivos - TP):**\n",
    "    * **O que é:** Transações que *eram* fraude e seu modelo *corretamente* marcou como *fraude*.\n",
    "    * **Resultado:** Excelente! Pegou 2.289 fraudes."
   ]
  },
  {
   "cell_type": "code",
   "execution_count": 42,
   "id": "af6c0bc2",
   "metadata": {},
   "outputs": [
    {
     "data": {
      "text/plain": [
       "array([[1805476,  100846],\n",
       "       [    175,    2289]])"
      ]
     },
     "execution_count": 42,
     "metadata": {},
     "output_type": "execute_result"
    }
   ],
   "source": [
    "confusion_matrix(y_test, y_pred)"
   ]
  }
 ],
 "metadata": {
  "kernelspec": {
   "display_name": "Python 3",
   "language": "python",
   "name": "python3"
  },
  "language_info": {
   "codemirror_mode": {
    "name": "ipython",
    "version": 3
   },
   "file_extension": ".py",
   "mimetype": "text/x-python",
   "name": "python",
   "nbconvert_exporter": "python",
   "pygments_lexer": "ipython3",
   "version": "3.13.0"
  }
 },
 "nbformat": 4,
 "nbformat_minor": 5
}
